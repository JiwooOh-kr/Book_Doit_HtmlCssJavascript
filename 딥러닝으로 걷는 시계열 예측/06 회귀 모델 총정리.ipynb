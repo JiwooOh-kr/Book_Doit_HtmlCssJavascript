{
 "cells": [
  {
   "cell_type": "markdown",
   "metadata": {
    "id": "ocj7UtorrMaJ"
   },
   "source": [
    "## Sequential 모델"
   ]
  },
  {
   "cell_type": "markdown",
   "metadata": {
    "id": "MSIA0kmysmj6"
   },
   "source": [
    "- Sequential 1:1 모델"
   ]
  },
  {
   "cell_type": "code",
   "execution_count": null,
   "metadata": {
    "colab": {
     "base_uri": "https://localhost:8080/",
     "height": 122
    },
    "id": "3sVsDjzssoDX",
    "outputId": "fbe0b019-f9bd-4df5-b12f-ad66856cfd13"
   },
   "outputs": [
    {
     "name": "stdout",
     "output_type": "stream",
     "text": [
      "3/3 [==============================] - 0s 2ms/step - loss: 6.4301e-06 - mse: 6.4301e-06\n",
      "mse :  6.430070698115742e-06\n",
      "예측값 : \n",
      " [[10.996179]\n",
      " [11.995506]\n",
      " [12.994834]]\n"
     ]
    }
   ],
   "source": [
    "# 1. 데이터\n",
    "# 1-7 훈련, 8-10 테스트, 11-13 예측\n",
    "import numpy as np\n",
    "x_train   = np.array([1,2,3,4,5,6,7,])\n",
    "y_train   = np.array([1,2,3,4,5,6,7,])\n",
    "x_test    = np.array([8,9,10])\n",
    "y_test    = np.array([8,9,10])\n",
    "x_predict = np.array([11,12,13])\n",
    "\n",
    "# 2. 모델 구성\n",
    "from keras.models import Sequential\n",
    "from keras.layers import Dense\n",
    "model = Sequential()\n",
    "model.add(Dense(100, input_dim = 1, activation ='relu'))\n",
    "model.add(Dense(30))\n",
    "model.add(Dense(5))\n",
    "model.add(Dense(1))\n",
    "\n",
    "# 3. 훈련\n",
    "# batch_size의 기본값은 16\n",
    "model.compile(loss='mse', optimizer='adam', metrics=['mse'])\n",
    "model.fit(x_train, y_train, epochs=100, batch_size=1, verbose=0)\n",
    "\n",
    "# 4. 평가 예측\n",
    "loss, mse = model.evaluate(x_test, y_test, batch_size=1)\n",
    "print(\"mse : \", mse)\n",
    "y_predict = model.predict(x_predict)\n",
    "print(\"예측값 : \\n\", y_predict)"
   ]
  },
  {
   "cell_type": "markdown",
   "metadata": {
    "id": "D4wvbV-qtLVz"
   },
   "source": [
    "- Sequential 다:다 모델"
   ]
  },
  {
   "cell_type": "code",
   "execution_count": null,
   "metadata": {
    "colab": {
     "base_uri": "https://localhost:8080/",
     "height": 228
    },
    "id": "NDBc34IZtQwf",
    "outputId": "94f508d5-c43e-460c-f9a8-9d5db6b7925c"
   },
   "outputs": [
    {
     "name": "stdout",
     "output_type": "stream",
     "text": [
      "(2, 7)\n",
      "(2, 3)\n",
      "(2, 3)\n",
      "(7, 2)\n",
      "(3, 2)\n",
      "(3, 2)\n",
      "3/3 [==============================] - 0s 2ms/step - loss: 0.1520 - mse: 0.1520\n",
      "mse :  0.15197345614433289\n",
      "예측값 : \n",
      " [[16.710432 31.400866]\n",
      " [17.362207 32.444527]\n",
      " [18.013367 33.4878  ]]\n"
     ]
    }
   ],
   "source": [
    "# 1. 데이터\n",
    "import numpy as np\n",
    "x_train   = np.array([[1,2,3,4,5,6,7,], [11,12,13,14,15,16,17]])\n",
    "y_train   = np.array([[1,2,3,4,5,6,7,], [11,12,13,14,15,16,17]])\n",
    "x_test    = np.array([[8,9,10], [18,19,20]])\n",
    "y_test    = np.array([[8,9,10], [18,19,20]])\n",
    "x_predict = np.array([[21,22,23], [31,32,33]])\n",
    "print(x_train.shape)\n",
    "print(x_test.shape)\n",
    "print(x_predict.shape)\n",
    "\n",
    "x_train = np.transpose(x_train)\n",
    "y_train = np.transpose(y_train)\n",
    "x_test  = np.transpose(x_test)\n",
    "y_test  = np.transpose(y_test)\n",
    "x_predict = np.transpose(x_predict)\n",
    "print(x_train.shape)\n",
    "print(x_test.shape)\n",
    "print(x_predict.shape)\n",
    "\n",
    "# 2. 모델 구성\n",
    "from keras.models import Sequential\n",
    "from keras.layers import Dense\n",
    "model = Sequential()\n",
    "model.add(Dense(100, input_dim = 2, activation ='relu'))\n",
    "model.add(Dense(30))\n",
    "model.add(Dense(5))\n",
    "model.add(Dense(2))\n",
    "\n",
    "# 3. 훈련\n",
    "model.compile(loss='mse', optimizer='adam', metrics=['mse'])\n",
    "model.fit(x_train, y_train, epochs=100, batch_size=1, verbose=0)\n",
    "\n",
    "# 4. 평가 예측\n",
    "loss, mse = model.evaluate(x_test, y_test, batch_size=1)\n",
    "print(\"mse : \", mse)\n",
    "\n",
    "y_predict = model.predict(x_predict)\n",
    "print(\"예측값 : \\n\", y_predict)\n",
    "\n",
    "# 예측값 오차가 큼 -> 레이어와 노드의 개수 조절해 정확도를 높여야 함"
   ]
  },
  {
   "cell_type": "markdown",
   "metadata": {
    "id": "rgycoThXtfWl"
   },
   "source": [
    "- Sequential 다:1 모델"
   ]
  },
  {
   "cell_type": "code",
   "execution_count": null,
   "metadata": {
    "colab": {
     "base_uri": "https://localhost:8080/",
     "height": 298
    },
    "id": "IUeVwOhKtwuE",
    "outputId": "ca31c855-7a1c-479a-f8fe-8fa688efe5b7"
   },
   "outputs": [
    {
     "name": "stdout",
     "output_type": "stream",
     "text": [
      "x_train.shape :  (2, 7)\n",
      "y_train.shape :  (7,)\n",
      "x_test.shape :  (2, 3)\n",
      "y_test.shape :  (3,)\n",
      "x_predict.shape :  (2, 3)\n",
      "x_train.shape :  (7, 2)\n",
      "y_train.shape :  (7,)\n",
      "x_test.shape :  (3, 2)\n",
      "y_test.shape :  (3,)\n",
      "x_predict.shape :  (3, 2)\n",
      "3/3 [==============================] - 0s 2ms/step - loss: 0.3693 - mse: 0.3693\n",
      "mse :  0.3693087100982666\n",
      "예측값 : \n",
      " [[16.499128]\n",
      " [17.14275 ]\n",
      " [17.786367]]\n"
     ]
    }
   ],
   "source": [
    "# 1. 데이터\n",
    "import numpy as np\n",
    "x_train   = np.array([[1,2,3,4,5,6,7,], [11,12,13,14,15,16,17]])\n",
    "y_train   = np.array([1,2,3,4,5,6,7,])\n",
    "x_test    = np.array([[8,9,10], [18,19,20]])\n",
    "y_test    = np.array([8,9,10])\n",
    "x_predict = np.array([[21,22,23], [31,32,33]])\n",
    "print('x_train.shape : ', x_train.shape)\n",
    "print('y_train.shape : ', y_train.shape)\n",
    "print('x_test.shape : ' , x_test.shape)\n",
    "print('y_test.shape : ' , y_test.shape)\n",
    "print('x_predict.shape : ', x_predict.shape )\n",
    "\n",
    "x_train   = np.transpose(x_train)\n",
    "x_test    = np.transpose(x_test)\n",
    "x_predict = np.transpose(x_predict)\n",
    "print('x_train.shape : ', x_train.shape)\n",
    "print('y_train.shape : ', y_train.shape)\n",
    "print('x_test.shape : ' , x_test.shape)\n",
    "print('y_test.shape : ' , y_test.shape)\n",
    "print('x_predict.shape : ', x_predict.shape )\n",
    "\n",
    "# 2. 모델 구성\n",
    "from keras.models import Sequential\n",
    "from keras.layers import Dense\n",
    "model = Sequential()\n",
    "model.add(Dense(100, input_dim = 2, activation ='relu'))\n",
    "model.add(Dense(30))\n",
    "model.add(Dense(5))\n",
    "model.add(Dense(1))\n",
    "\n",
    "# 3. 훈련\n",
    "model.compile(loss='mse', optimizer='adam', metrics=['mse'])\n",
    "model.fit(x_train, y_train, epochs=100, batch_size=1, verbose=0)\n",
    "\n",
    "# 4. 평가 예측\n",
    "loss, mse = model.evaluate(x_test, y_test, batch_size=1)\n",
    "print(\"mse : \", mse)\n",
    "y_predict = model.predict(x_predict)\n",
    "print(\"예측값 : \\n\", y_predict)"
   ]
  },
  {
   "cell_type": "markdown",
   "metadata": {
    "id": "sFmX1ZWKt_qa"
   },
   "source": [
    "- Sequential 1:다 모델"
   ]
  },
  {
   "cell_type": "code",
   "execution_count": null,
   "metadata": {
    "colab": {
     "base_uri": "https://localhost:8080/",
     "height": 298
    },
    "id": "ZP6ievkKuHIn",
    "outputId": "5fec4a10-bb67-4ee8-8750-8e1770a9fc71"
   },
   "outputs": [
    {
     "name": "stdout",
     "output_type": "stream",
     "text": [
      "x_train.shape :  (7,)\n",
      "y_train.shape :  (2, 7)\n",
      "x_test.shape :  (3,)\n",
      "y_test.shape :  (2, 3)\n",
      "x_predict.shape :  (3,)\n",
      "x_train.shape :  (7,)\n",
      "y_train.shape :  (7, 2)\n",
      "x_test.shape :  (3,)\n",
      "y_test.shape :  (3, 2)\n",
      "x_predict.shape :  (3,)\n",
      "3/3 [==============================] - 0s 2ms/step - loss: 2.5774 - mse: 2.5774\n",
      "mse :  2.5774145126342773\n",
      "예측값 : \n",
      " [[ 9.687646  24.130013 ]\n",
      " [10.467529  25.674992 ]\n",
      " [11.2474165 27.219975 ]]\n"
     ]
    }
   ],
   "source": [
    "# 1. 데이터\n",
    "import numpy as np\n",
    "x_train   = np.array([1,2,3,4,5,6,7,])\n",
    "y_train   = np.array([[1,2,3,4,5,6,7,], [11,12,13,14,15,16,17]])\n",
    "x_test    = np.array([8,9,10])\n",
    "y_test    = np.array([[8,9,10], [18,19,20]])\n",
    "x_predict = np.array([11,12,13])\n",
    "print('x_train.shape : ', x_train.shape)\n",
    "print('y_train.shape : ', y_train.shape)\n",
    "print('x_test.shape : ' , x_test.shape)\n",
    "print('y_test.shape : ' , y_test.shape)\n",
    "print('x_predict.shape : ', x_predict.shape )\n",
    "\n",
    "y_train = np.transpose(y_train)\n",
    "y_test  = np.transpose(y_test)\n",
    "print('x_train.shape : ', x_train.shape)\n",
    "print('y_train.shape : ', y_train.shape)\n",
    "print('x_test.shape : ' , x_test.shape)\n",
    "print('y_test.shape : ' , y_test.shape)\n",
    "print('x_predict.shape : ', x_predict.shape )\n",
    "\n",
    "# 2. 모델 구성\n",
    "from keras.models import Sequential\n",
    "from keras.layers import Dense\n",
    "model = Sequential()\n",
    "model.add(Dense(100, input_dim = 1, activation ='relu'))\n",
    "model.add(Dense(30))\n",
    "model.add(Dense(5))\n",
    "model.add(Dense(2))\n",
    "\n",
    "# 3. 훈련\n",
    "model.compile(loss='mse', optimizer='adam', metrics=['mse'])\n",
    "model.fit(x_train, y_train, epochs=100, batch_size=1, verbose=0)\n",
    "\n",
    "# 4. 평가 예측\n",
    "loss, mse = model.evaluate(x_test, y_test, batch_size=1)\n",
    "print(\"mse : \", mse)\n",
    "y_predict = model.predict(x_predict)\n",
    "print(\"예측값 : \\n\", y_predict)"
   ]
  },
  {
   "cell_type": "markdown",
   "metadata": {
    "id": "CQux4NV7uOtG"
   },
   "source": [
    "## 함수형 모델"
   ]
  },
  {
   "cell_type": "markdown",
   "metadata": {
    "id": "4BzrFBTNuqAn"
   },
   "source": [
    "- 함수형 1:1 모델"
   ]
  },
  {
   "cell_type": "code",
   "execution_count": null,
   "metadata": {
    "colab": {
     "base_uri": "https://localhost:8080/",
     "height": 122
    },
    "id": "HCl_UbW-urUP",
    "outputId": "2d3e04b4-7f8b-4a7a-b295-1bdac68657f9"
   },
   "outputs": [
    {
     "name": "stdout",
     "output_type": "stream",
     "text": [
      "3/3 [==============================] - 0s 2ms/step - loss: 8.9663e-06 - mse: 8.9663e-06\n",
      "mse :  8.966319910541642e-06\n",
      "예측값 : \n",
      " [[10.995717]\n",
      " [11.995045]\n",
      " [12.994376]]\n"
     ]
    }
   ],
   "source": [
    "# 1. 데이터\n",
    "import numpy as np\n",
    "x_train   = np.array([1,2,3,4,5,6,7,])\n",
    "y_train   = np.array([1,2,3,4,5,6,7,])\n",
    "x_test    = np.array([8,9,10])\n",
    "y_test    = np.array([8,9,10])\n",
    "x_predict = np.array([11,12,13])\n",
    "\n",
    "# 2. 모델 구성\n",
    "from keras.models import Model\n",
    "from keras.layers import Dense, Input\n",
    "input1  = Input(shape=(1,))\n",
    "dense1  = Dense(100, activation='relu')(input1)\n",
    "dense2  = Dense(30)(dense1)\n",
    "dense3  = Dense(5)(dense2)\n",
    "output1 = Dense(1)(dense3)\n",
    "model   = Model(inputs = input1, outputs= output1)\n",
    "\n",
    "# 3. 훈련\n",
    "model.compile(loss='mse', optimizer='adam', metrics=['mse'])\n",
    "model.fit(x_train, y_train, epochs=100, batch_size=1, verbose=0)\n",
    "\n",
    "# 4. 평가 예측\n",
    "loss, mse = model.evaluate(x_test, y_test, batch_size=1)\n",
    "print(\"mse : \", mse)\n",
    "y_predict = model.predict(x_predict)\n",
    "print(\"예측값 : \\n\", y_predict)"
   ]
  },
  {
   "cell_type": "markdown",
   "metadata": {
    "id": "Mrolj2NFuy16"
   },
   "source": [
    "- 함수형 다:다 모델"
   ]
  },
  {
   "cell_type": "code",
   "execution_count": null,
   "metadata": {
    "colab": {
     "base_uri": "https://localhost:8080/",
     "height": 228
    },
    "id": "KIJaUyv9u3fB",
    "outputId": "a429a724-5a3a-4b07-c733-ba449cef2eb7"
   },
   "outputs": [
    {
     "name": "stdout",
     "output_type": "stream",
     "text": [
      "(2, 7)\n",
      "(2, 3)\n",
      "(2, 3)\n",
      "(7, 2)\n",
      "(3, 2)\n",
      "(3, 2)\n",
      "3/3 [==============================] - 0s 2ms/step - loss: 0.0572 - mse: 0.0572\n",
      "mse :  0.05721372365951538\n",
      "예측값 : \n",
      " [[19.314142 32.485516]\n",
      " [20.194057 33.584503]\n",
      " [21.073977 34.683475]]\n"
     ]
    }
   ],
   "source": [
    "# 1. 데이터\n",
    "import numpy as np\n",
    "x_train   = np.array([[1,2,3,4,5,6,7,], [11,12,13,14,15,16,17]])\n",
    "y_train   = np.array([[1,2,3,4,5,6,7,], [11,12,13,14,15,16,17]])\n",
    "x_test    = np.array([[8,9,10], [18,19,20]])\n",
    "y_test    = np.array([[8,9,10], [18,19,20]])\n",
    "x_predict = np.array([[21,22,23], [31,32,33]])\n",
    "print(x_train.shape)\n",
    "print(x_test.shape)\n",
    "print(x_predict.shape)\n",
    "\n",
    "x_train   = np.transpose(x_train)\n",
    "y_train   = np.transpose(y_train)\n",
    "x_test    = np.transpose(x_test)\n",
    "y_test    = np.transpose(y_test)\n",
    "x_predict = np.transpose(x_predict)\n",
    "print(x_train.shape)\n",
    "print(x_test.shape)\n",
    "print(x_predict.shape)\n",
    "\n",
    "# 2. 모델 구성\n",
    "from keras.models import Model\n",
    "from keras.layers import Dense, Input\n",
    "input1  = Input(shape=(2,))\n",
    "dense1  = Dense(100, activation='relu')(input1)\n",
    "dense2  = Dense(30)(dense1)\n",
    "dense3  = Dense(5)(dense2)\n",
    "output1 = Dense(2)(dense3)\n",
    "model   = Model(inputs = input1, outputs= output1)\n",
    "\n",
    "# 3. 훈련\n",
    "model.compile(loss='mse', optimizer='adam', metrics=['mse'])\n",
    "model.fit(x_train, y_train, epochs=100, batch_size=1, verbose=0)\n",
    "\n",
    "# 4. 평가 예측\n",
    "loss, mse = model.evaluate(x_test, y_test, batch_size=1)\n",
    "print(\"mse : \", mse)\n",
    "\n",
    "y_predict = model.predict(x_predict)\n",
    "print(\"예측값 : \\n\", y_predict)"
   ]
  },
  {
   "cell_type": "markdown",
   "metadata": {
    "id": "vKY2U00Fu-N8"
   },
   "source": [
    "- 함수형 다:1 모델"
   ]
  },
  {
   "cell_type": "code",
   "execution_count": null,
   "metadata": {
    "colab": {
     "base_uri": "https://localhost:8080/",
     "height": 298
    },
    "id": "9RIM4bmNvPq2",
    "outputId": "bbe4dde9-3ff6-41bb-f89f-c590bee282c6"
   },
   "outputs": [
    {
     "name": "stdout",
     "output_type": "stream",
     "text": [
      "x_train.shape :  (2, 7)\n",
      "y_train.shape :  (7,)\n",
      "x_test.shape :  (2, 3)\n",
      "y_test.shape :  (3,)\n",
      "x_predict.shape :  (2, 3)\n",
      "x_train.shape :  (7, 2)\n",
      "y_train.shape :  (7,)\n",
      "x_test.shape :  (3, 2)\n",
      "y_test.shape :  (3,)\n",
      "x_predict.shape :  (3, 2)\n",
      "3/3 [==============================] - 0s 2ms/step - loss: 0.0512 - mse: 0.0512\n",
      "mse :  0.05119122937321663\n",
      "예측값 : \n",
      " [[18.880304]\n",
      " [19.697393]\n",
      " [20.51389 ]]\n"
     ]
    }
   ],
   "source": [
    "# 1. 데이터\n",
    "import numpy as np\n",
    "x_train = np.array([[1,2,3,4,5,6,7,], [11,12,13,14,15,16,17]])\n",
    "y_train = np.array([1,2,3,4,5,6,7,])\n",
    "x_test  = np.array([[8,9,10], [18,19,20]])\n",
    "y_test    = np.array([8,9,10])\n",
    "x_predict = np.array([[21,22,23], [31,32,33]])\n",
    "\n",
    "print('x_train.shape : ', x_train.shape)\n",
    "print('y_train.shape : ', y_train.shape)\n",
    "print('x_test.shape : ' , x_test.shape)\n",
    "print('y_test.shape : ' , y_test.shape)\n",
    "print('x_predict.shape : ', x_predict.shape )\n",
    "\n",
    "x_train   = np.transpose(x_train)\n",
    "x_test    = np.transpose(x_test)\n",
    "x_predict = np.transpose(x_predict)\n",
    "\n",
    "print('x_train.shape : ', x_train.shape)\n",
    "print('y_train.shape : ', y_train.shape)\n",
    "print('x_test.shape : ' , x_test.shape)\n",
    "print('y_test.shape : ' , y_test.shape)\n",
    "print('x_predict.shape : ', x_predict.shape )\n",
    "\n",
    "# 2. 모델 구성\n",
    "from keras.models import Model\n",
    "from keras.layers import Dense, Input\n",
    "input1  = Input(shape=(2,))\n",
    "dense1  = Dense(100, activation='relu')(input1)\n",
    "dense2  = Dense(30)(dense1)\n",
    "dense3  = Dense(5)(dense2)\n",
    "output1 = Dense(1)(dense3)\n",
    "model   = Model(inputs = input1, outputs= output1)\n",
    "\n",
    "# 3. 훈련\n",
    "model.compile(loss='mse', optimizer='adam', metrics=['mse'])\n",
    "model.fit(x_train, y_train, epochs=100, batch_size=1, verbose=0)\n",
    "\n",
    "# 4. 평가 예측\n",
    "loss, mse = model.evaluate(x_test, y_test, batch_size=1)\n",
    "print(\"mse : \", mse)\n",
    "y_predict = model.predict(x_predict)\n",
    "print(\"예측값 : \\n\", y_predict)"
   ]
  },
  {
   "cell_type": "markdown",
   "metadata": {
    "id": "iOi0UUqsvbSm"
   },
   "source": [
    "- 함수형 1:다 모델"
   ]
  },
  {
   "cell_type": "code",
   "execution_count": null,
   "metadata": {
    "colab": {
     "base_uri": "https://localhost:8080/",
     "height": 298
    },
    "id": "Teav4ByzvmF_",
    "outputId": "48bf0fdc-ccd7-488f-9d1d-75d07a89ebf4"
   },
   "outputs": [
    {
     "name": "stdout",
     "output_type": "stream",
     "text": [
      "x_train.shape :  (7,)\n",
      "y_train.shape :  (2, 7)\n",
      "x_test.shape :  (3,)\n",
      "y_test.shape :  (2, 3)\n",
      "x_predict.shape :  (3,)\n",
      "x_train.shape :  (7,)\n",
      "y_train.shape :  (7, 2)\n",
      "x_test.shape :  (3,)\n",
      "y_test.shape :  (3, 2)\n",
      "x_predict.shape :  (3,)\n",
      "3/3 [==============================] - 0s 3ms/step - loss: 0.1705 - mse: 0.1705\n",
      "mse :  0.1705407351255417\n",
      "예측값 : \n",
      " [[11.118548 21.865925]\n",
      " [12.14041  23.015974]\n",
      " [13.162269 24.166025]]\n"
     ]
    }
   ],
   "source": [
    "# 1. 데이터\n",
    "import numpy as np\n",
    "x_train   = np.array([1,2,3,4,5,6,7,])\n",
    "y_train   = np.array([[1,2,3,4,5,6,7,], [11,12,13,14,15,16,17]])\n",
    "x_test    = np.array([8,9,10])\n",
    "y_test    = np.array([[8,9,10], [18,19,20]])\n",
    "x_predict = np.array([11,12,13])\n",
    "print('x_train.shape : ', x_train.shape)\n",
    "print('y_train.shape : ', y_train.shape)\n",
    "print('x_test.shape : ' , x_test.shape)\n",
    "print('y_test.shape : ' , y_test.shape)\n",
    "print('x_predict.shape : ', x_predict.shape )\n",
    "\n",
    "y_train = np.transpose(y_train)\n",
    "y_test  = np.transpose(y_test)\n",
    "print('x_train.shape : ', x_train.shape)\n",
    "print('y_train.shape : ', y_train.shape)\n",
    "print('x_test.shape : ' , x_test.shape)\n",
    "print('y_test.shape : ' , y_test.shape)\n",
    "print('x_predict.shape : ', x_predict.shape )\n",
    "\n",
    "# 2. 모델 구성\n",
    "from keras.models import Model\n",
    "from keras.layers import Dense, Input\n",
    "input1  = Input(shape=(1,))\n",
    "dense1  = Dense(100, activation='relu')(input1)\n",
    "dense2  = Dense(30)(dense1)\n",
    "dense3  = Dense(5)(dense2)\n",
    "output1 = Dense(2)(dense3)\n",
    "model   = Model(inputs = input1, outputs= output1)\n",
    "\n",
    "# 3. 훈련\n",
    "model.compile(loss='mse', optimizer='adam', metrics=['mse'])\n",
    "model.fit(x_train, y_train, epochs=100, batch_size=1, verbose=0)\n",
    "\n",
    "# 4. 평가 예측\n",
    "loss, mse = model.evaluate(x_test, y_test, batch_size=1)\n",
    "print(\"mse : \", mse)\n",
    "y_predict = model.predict(x_predict)\n",
    "print(\"예측값 : \\n\", y_predict)"
   ]
  },
  {
   "cell_type": "markdown",
   "metadata": {
    "id": "NwlUhskov1qr"
   },
   "source": [
    "## 앙상블 및 기타 모델"
   ]
  },
  {
   "cell_type": "markdown",
   "metadata": {
    "id": "sboIXBbUv82U"
   },
   "source": [
    "- 앙상블 다:다 모델"
   ]
  },
  {
   "cell_type": "code",
   "execution_count": null,
   "metadata": {
    "colab": {
     "base_uri": "https://localhost:8080/",
     "height": 1000
    },
    "id": "ScLiRys7v-RA",
    "outputId": "9e0cf175-ca52-4806-af53-c1d00d367282"
   },
   "outputs": [
    {
     "name": "stdout",
     "output_type": "stream",
     "text": [
      "(2, 100)\n",
      "(2, 100)\n",
      "(2, 100)\n",
      "(2, 100)\n",
      "(100, 2)\n",
      "(100, 2)\n",
      "(100, 2)\n",
      "(100, 2)\n",
      "x2_train.shape :  (80, 2)\n",
      "x2_val.shape :  (10, 2)\n",
      "x2_test.shape :  (10, 2)\n",
      "Model: \"functional_1\"\n",
      "__________________________________________________________________________________________________\n",
      "Layer (type)                    Output Shape         Param #     Connected to                     \n",
      "==================================================================================================\n",
      "input_1 (InputLayer)            [(None, 2)]          0                                            \n",
      "__________________________________________________________________________________________________\n",
      "input_2 (InputLayer)            [(None, 2)]          0                                            \n",
      "__________________________________________________________________________________________________\n",
      "dense (Dense)                   (None, 100)          300         input_1[0][0]                    \n",
      "__________________________________________________________________________________________________\n",
      "dense_3 (Dense)                 (None, 50)           150         input_2[0][0]                    \n",
      "__________________________________________________________________________________________________\n",
      "dense_1 (Dense)                 (None, 30)           3030        dense[0][0]                      \n",
      "__________________________________________________________________________________________________\n",
      "dense_4 (Dense)                 (None, 30)           1530        dense_3[0][0]                    \n",
      "__________________________________________________________________________________________________\n",
      "dense_2 (Dense)                 (None, 7)            217         dense_1[0][0]                    \n",
      "__________________________________________________________________________________________________\n",
      "dense_5 (Dense)                 (None, 7)            217         dense_4[0][0]                    \n",
      "__________________________________________________________________________________________________\n",
      "concatenate (Concatenate)       (None, 14)           0           dense_2[0][0]                    \n",
      "                                                                 dense_5[0][0]                    \n",
      "__________________________________________________________________________________________________\n",
      "dense_6 (Dense)                 (None, 10)           150         concatenate[0][0]                \n",
      "__________________________________________________________________________________________________\n",
      "dense_7 (Dense)                 (None, 5)            55          dense_6[0][0]                    \n",
      "__________________________________________________________________________________________________\n",
      "dense_8 (Dense)                 (None, 30)           180         dense_7[0][0]                    \n",
      "__________________________________________________________________________________________________\n",
      "dense_9 (Dense)                 (None, 30)           930         dense_8[0][0]                    \n",
      "__________________________________________________________________________________________________\n",
      "dense_12 (Dense)                (None, 20)           620         dense_8[0][0]                    \n",
      "__________________________________________________________________________________________________\n",
      "dense_10 (Dense)                (None, 7)            217         dense_9[0][0]                    \n",
      "__________________________________________________________________________________________________\n",
      "dense_13 (Dense)                (None, 70)           1470        dense_12[0][0]                   \n",
      "__________________________________________________________________________________________________\n",
      "dense_11 (Dense)                (None, 2)            16          dense_10[0][0]                   \n",
      "__________________________________________________________________________________________________\n",
      "dense_14 (Dense)                (None, 2)            142         dense_13[0][0]                   \n",
      "==================================================================================================\n",
      "Total params: 9,224\n",
      "Trainable params: 9,224\n",
      "Non-trainable params: 0\n",
      "__________________________________________________________________________________________________\n",
      "10/10 [==============================] - 0s 2ms/step - loss: 11.3495 - dense_11_loss: 9.6448 - dense_14_loss: 1.7047 - dense_11_mse: 9.6448 - dense_14_mse: 1.7047\n",
      "mse :  [11.349516868591309, 9.644811630249023, 1.7047048807144165, 9.644811630249023, 1.7047048807144165]\n",
      "y1 예측값 : \n",
      " [[ 87.50879  189.10272 ]\n",
      " [ 88.42762  190.06084 ]\n",
      " [ 89.34659  191.01894 ]\n",
      " [ 90.26549  191.97707 ]\n",
      " [ 91.18442  192.93521 ]\n",
      " [ 92.10335  193.8933  ]\n",
      " [ 93.02224  194.8515  ]\n",
      " [ 93.94093  195.8097  ]\n",
      " [ 94.8595   196.76796 ]\n",
      " [ 95.778076 197.7263  ]] \n",
      " y2 예측값 : \n",
      " [[591.61414 692.4698 ]\n",
      " [592.6451  693.516  ]\n",
      " [593.67633 694.56226]\n",
      " [594.70746 695.60846]\n",
      " [595.7385  696.6547 ]\n",
      " [596.76965 697.70087]\n",
      " [597.8008  698.74713]\n",
      " [598.83185 699.79346]\n",
      " [599.8628  700.83954]\n",
      " [600.8939  701.886  ]]\n"
     ]
    }
   ],
   "source": [
    "# 1. 데이터\n",
    "import numpy as np\n",
    "x1 = np.array([range(1, 101), range(101, 201)])\n",
    "y1 = np.array([range(1, 101), range(101, 201)])\n",
    "x2 = np.array([range(501, 601), range(601, 701)])\n",
    "y2 = np.array([range(501, 601), range(601, 701)])\n",
    "\n",
    "print(x1.shape)\n",
    "print(x2.shape)\n",
    "print(y1.shape)\n",
    "print(y2.shape)\n",
    "\n",
    "x1 = np.transpose(x1)\n",
    "y1 = np.transpose(y1)\n",
    "x2 = np.transpose(x2)\n",
    "y2 = np.transpose(y2)\n",
    "\n",
    "print(x1.shape)\n",
    "print(x2.shape)\n",
    "print(y1.shape)\n",
    "print(y2.shape)\n",
    "\n",
    "from sklearn.model_selection import train_test_split\n",
    "x1_train, x1_test, y1_train, y1_test = train_test_split(x1, y1, random_state=66, test_size=0.2, shuffle = False)\n",
    "x1_val, x1_test, y1_val, y1_test     = train_test_split(x1_test, y1_test, random_state=66, test_size=0.5, shuffle = False)\n",
    "x2_train, x2_test, y2_train, y2_test = train_test_split(x2, y2, random_state=66, test_size=0.2, shuffle = False)\n",
    "x2_val, x2_test, y2_val, y2_test     = train_test_split(x2_test, y2_test, random_state=66, test_size=0.5, shuffle = False)\n",
    "\n",
    "print('x2_train.shape : ', x2_train.shape)\n",
    "print('x2_val.shape : ', x2_val.shape)\n",
    "print('x2_test.shape : ', x2_test.shape)\n",
    "\n",
    "# 2. 모델 구성\n",
    "from keras.models import Sequential, Model\n",
    "from keras.layers import Dense, Input\n",
    "input1 = Input(shape=(2,))\n",
    "dense1 = Dense(100, activation='relu')(input1)\n",
    "dense1 = Dense(30)(dense1)\n",
    "dense1 = Dense(7)(dense1)\n",
    "\n",
    "input2 = Input(shape=(2,))\n",
    "dense2 = Dense(50, activation='relu')(input2)\n",
    "dense2 = Dense(30)(dense2)\n",
    "dense2 = Dense(7)(dense2)\n",
    "\n",
    "from keras.layers.merge import concatenate\n",
    "merge1  = concatenate([dense1, dense2])\n",
    "middle1 = Dense(10)(merge1)\n",
    "middle2 = Dense(5)(middle1)\n",
    "middle3 = Dense(30)(middle2)\n",
    "\n",
    "output1 = Dense(30)(middle3)\n",
    "output1 = Dense(7)(output1)\n",
    "output1 = Dense(2)(output1)\n",
    "\n",
    "output2 = Dense(20)(middle3)\n",
    "output2 = Dense(70)(output2)\n",
    "output2 = Dense(2)(output2)\n",
    "\n",
    "model = Model(inputs = [input1, input2],outputs = [output1, output2])\n",
    "model.summary()\n",
    "\n",
    "# 3. 훈련\n",
    "model.compile(loss='mse', optimizer='adam', metrics=['mse'])\n",
    "model.fit([x1_train, x2_train], [y1_train, y2_train], epochs=50, batch_size=1, validation_data=([x1_val, x2_val] , [y1_val, y2_val]), verbose=0)\n",
    "\n",
    "#4. 평가 예측\n",
    "mse = model.evaluate([x1_test, x2_test], [y1_test, y2_test], batch_size=1)\n",
    "print(\"mse : \", mse)\n",
    "y1_predict, y2_predict = model.predict([x1_test, x2_test])\n",
    "print(\"y1 예측값 : \\n\", y1_predict, \"\\n y2 예측값 : \\n\", y2_predict)"
   ]
  },
  {
   "cell_type": "markdown",
   "metadata": {
    "id": "YiCzJCwRwVqL"
   },
   "source": [
    "- 앙상블 다:다 모델 2"
   ]
  },
  {
   "cell_type": "code",
   "execution_count": null,
   "metadata": {
    "colab": {
     "base_uri": "https://localhost:8080/",
     "height": 864
    },
    "id": "_YkQ49PVwgYt",
    "outputId": "13bc9167-2e7f-43c5-a538-4f5887a408e1"
   },
   "outputs": [
    {
     "name": "stdout",
     "output_type": "stream",
     "text": [
      "(2, 100)\n",
      "(2, 100)\n",
      "(2, 100)\n",
      "(2, 100)\n",
      "(2, 100)\n",
      "(100, 2)\n",
      "(100, 2)\n",
      "(100, 2)\n",
      "(100, 2)\n",
      "(100, 2)\n",
      "y3_train.shape : (80, 2)\n",
      "y3_val.shape : (10, 2)\n",
      "y3_test.shape : (10, 2)\n",
      "10/10 [==============================] - 0s 1ms/step - loss: 21.2408 - dense_26_loss: 12.1930 - dense_29_loss: 3.8690 - dense_32_loss: 5.1788 - dense_26_mse: 12.1930 - dense_29_mse: 3.8690 - dense_32_mse: 5.1788\n",
      "y1 예측값 : \n",
      " [[ 87.72522  189.5018  ]\n",
      " [ 88.50429  190.31508 ]\n",
      " [ 89.28329  191.12828 ]\n",
      " [ 90.06222  191.94156 ]\n",
      " [ 90.84124  192.75473 ]\n",
      " [ 91.62028  193.56801 ]\n",
      " [ 92.399216 194.38126 ]\n",
      " [ 93.178345 195.1945  ]\n",
      " [ 93.95725  196.00775 ]\n",
      " [ 94.73646  196.82101 ]] \n",
      " y2 예측값 : \n",
      " [[591.8833  693.05444]\n",
      " [592.8509  694.18744]\n",
      " [593.81866 695.3205 ]\n",
      " [594.78625 696.45374]\n",
      " [595.75385 697.5867 ]\n",
      " [596.7213  698.7197 ]\n",
      " [597.6891  699.85266]\n",
      " [598.6566  700.9857 ]\n",
      " [599.6242  702.11865]\n",
      " [600.59204 703.25195]] \n",
      " y3 예측값 : \n",
      " [[792.5768  892.92584]\n",
      " [793.61316 894.0899 ]\n",
      " [794.6495  895.2539 ]\n",
      " [795.68585 896.41785]\n",
      " [796.7222  897.582  ]\n",
      " [797.75836 898.7459 ]\n",
      " [798.7947  899.90985]\n",
      " [799.831   901.07385]\n",
      " [800.86725 902.2378 ]\n",
      " [801.9038  903.40204]]\n"
     ]
    }
   ],
   "source": [
    "# 1. 데이터\n",
    "import numpy as np\n",
    "x1 = np.array([range(1, 101), range(101, 201)])\n",
    "y1 = np.array([range(1, 101), range(101, 201)])\n",
    "x2 = np.array([range(501, 601), range(601, 701)])\n",
    "y2 = np.array([range(501, 601), range(601, 701)])\n",
    "y3 = np.array([range(701, 801), range(801, 901)])\n",
    "\n",
    "print(x1.shape)\n",
    "print(x2.shape)\n",
    "print(y1.shape)\n",
    "print(y2.shape)\n",
    "print(y3.shape)\n",
    "\n",
    "x1 = np.transpose(x1)\n",
    "y1 = np.transpose(y1)\n",
    "x2 = np.transpose(x2)\n",
    "y2 = np.transpose(y2)\n",
    "y3 = np.transpose(y3)\n",
    "print(x1.shape)\n",
    "print(x2.shape)\n",
    "print(y1.shape)\n",
    "print(y2.shape)\n",
    "print(y3.shape)\n",
    "\n",
    "from sklearn.model_selection import train_test_split\n",
    "x1_train, x1_test, y1_train, y1_test = train_test_split(x1, y1, random_state=66, test_size=0.2, shuffle = False)\n",
    "x1_val,   x1_test, y1_val,   y1_test = train_test_split(x1_test, y1_test, random_state=66, test_size=0.5, shuffle = False)\n",
    "x2_train, x2_test, y2_train, y2_test = train_test_split(x2, y2, random_state=66, test_size=0.2, shuffle = False)\n",
    "x2_val,   x2_test, y2_val,   y2_test = train_test_split(x2_test, y2_test, random_state=66, test_size=0.5, shuffle = False)\n",
    "\n",
    "#  y3 데이터의 분리\n",
    "y3_train, y3_test = train_test_split(y3 , random_state=66, test_size=0.2, shuffle=False)\n",
    "y3_val,   y3_test = train_test_split(y3_test , random_state=66, test_size=0.5, shuffle=False)\n",
    "\n",
    "print('y3_train.shape :', y3_train.shape)\n",
    "print('y3_val.shape :',   y3_val.shape)\n",
    "print('y3_test.shape :',  y3_test.shape)\n",
    "\n",
    "# 2. 모델 구성\n",
    "from keras.models import Sequential, Model\n",
    "from keras.layers import Dense, Input\n",
    "input1 = Input(shape=(2,))\n",
    "dense1 = Dense(100, activation='relu')(input1)\n",
    "dense1 = Dense(30)(dense1)\n",
    "dense1 = Dense(7)(dense1)\n",
    "\n",
    "input2 = Input(shape=(2,))\n",
    "dense2 = Dense(50, activation='relu')(input2)\n",
    "dense2 = Dense(30)(dense2)\n",
    "dense2 = Dense(7)(dense2)\n",
    "\n",
    "from keras.layers.merge import concatenate\n",
    "merge1  = concatenate([dense1, dense2])\n",
    "middle1 = Dense(10)(merge1)\n",
    "middle2 = Dense(5)(middle1)\n",
    "middle3 = Dense(30)(middle2)\n",
    "\n",
    "output1 = Dense(30)(middle3)\n",
    "output1 = Dense(7)(output1)\n",
    "output1 = Dense(2)(output1)\n",
    "\n",
    "output2 = Dense(20)(middle3)\n",
    "output2 = Dense(70)(output2)\n",
    "output2 = Dense(2)(output2)\n",
    "\n",
    "output3 = Dense(25)(middle3)\n",
    "output3 = Dense(5)(output3)\n",
    "output3 = Dense(2)(output3)\n",
    "\n",
    "model = Model(inputs = [input1, input2], outputs = [output1, output2, output3])\n",
    "\n",
    "#3. 훈련\n",
    "model.compile(loss='mse', optimizer='adam', metrics=['mse'])\n",
    "model.fit([x1_train, x2_train], [y1_train, y2_train, y3_train], epochs=50, batch_size=1, \n",
    "          validation_data=([x1_val, x2_val], [y1_val, y2_val, y3_val]), verbose=0)\n",
    "\n",
    "#4. 평가 예측\n",
    "mse = model.evaluate([x1_test, x2_test], [y1_test, y2_test, y3_test], batch_size=1)\n",
    "\n",
    "y1_predict, y2_predict, y3_predict = model.predict([x1_test, x2_test])\n",
    "print(\"y1 예측값 : \\n\", y1_predict, \"\\n y2 예측값 : \\n\", y2_predict, \"\\n y3 예측값 : \\n\", y3_predict)"
   ]
  },
  {
   "cell_type": "markdown",
   "metadata": {
    "id": "NqimgZPUxRRl"
   },
   "source": [
    "- 앙상블 다:1 모델"
   ]
  },
  {
   "cell_type": "code",
   "execution_count": null,
   "metadata": {
    "colab": {
     "base_uri": "https://localhost:8080/",
     "height": 404
    },
    "id": "QnA1rZ7_xT91",
    "outputId": "2cca0d18-6705-4803-c8fc-95ad9540e956"
   },
   "outputs": [
    {
     "name": "stdout",
     "output_type": "stream",
     "text": [
      "(2, 100)\n",
      "(2, 100)\n",
      "(2, 100)\n",
      "(100, 2)\n",
      "(100, 2)\n",
      "(100, 2)\n",
      "x2_train.shape :  (80, 2)\n",
      "x2_val.shape :  (10, 2)\n",
      "x2_test.shape :  (10, 2)\n",
      "10/10 [==============================] - 0s 1ms/step - loss: 3.7065 - mse: 3.7065\n",
      "mse :  [3.706537961959839, 3.706537961959839]\n",
      "y1 예측값 : \n",
      " [[ 89.11994  190.78601 ]\n",
      " [ 89.944756 191.76892 ]\n",
      " [ 90.76954  192.75189 ]\n",
      " [ 91.59423  193.73485 ]\n",
      " [ 92.416245 194.71912 ]\n",
      " [ 93.23825  195.70335 ]\n",
      " [ 94.06441  196.69032 ]\n",
      " [ 94.90336  197.68561 ]\n",
      " [ 95.74232  198.68095 ]\n",
      " [ 96.58126  199.67625 ]]\n"
     ]
    }
   ],
   "source": [
    "# 1. 데이터\n",
    "import numpy as np\n",
    "x1 = np.array([range(1, 101), range(101, 201)])\n",
    "x2 = np.array([range(501, 601), range(601, 701)])\n",
    "y  = np.array([range(1, 101), range(101, 201)])\n",
    "print(x1.shape)\n",
    "print(x2.shape)\n",
    "print(y.shape)\n",
    "\n",
    "x1 = np.transpose(x1)\n",
    "x2 = np.transpose(x2)\n",
    "y  = np.transpose(y)\n",
    "print(x1.shape)\n",
    "print(x2.shape)\n",
    "print(y.shape)\n",
    "\n",
    "from sklearn.model_selection import train_test_split\n",
    "x1_train, x1_test, y_train, y_test = train_test_split(x1, y, random_state=66, test_size=0.2, shuffle = False)\n",
    "x1_val,   x1_test, y_val,   y_test = train_test_split(x1_test, y_test, random_state=66, test_size=0.5, shuffle = False)\n",
    "x2_train, x2_test                  = train_test_split(x2, random_state=66, test_size=0.2, shuffle = False)\n",
    "x2_val,   x2_test                  = train_test_split(x2_test, random_state=66, test_size=0.5, shuffle = False)\n",
    "\n",
    "print('x2_train.shape : ', x2_train.shape)\n",
    "print('x2_val.shape : ', x2_val.shape)\n",
    "print('x2_test.shape : ', x2_test.shape)\n",
    "\n",
    "# 2. 모델 구성\n",
    "from keras.models import Sequential, Model\n",
    "from keras.layers import Dense, Input\n",
    "input1 = Input(shape=(2,))\n",
    "dense1 = Dense(100, activation='relu')(input1)\n",
    "dense1 = Dense(30)(dense1)\n",
    "dense1 = Dense(7)(dense1)\n",
    "\n",
    "input2 = Input(shape=(2,))\n",
    "dense2 = Dense(50, activation='relu')(input2)\n",
    "dense2 = Dense(30)(dense2)\n",
    "dense2 = Dense(7)(dense2)\n",
    "\n",
    "from keras.layers.merge import concatenate\n",
    "merge1 = concatenate([dense1, dense2])\n",
    "\n",
    "output1 = Dense(30)(merge1)\n",
    "output1 = Dense(7)(output1)\n",
    "output1 = Dense(2)(output1)\n",
    "\n",
    "model = Model(inputs = [input1, input2], outputs = output1)\n",
    "\n",
    "# 3. 훈련\n",
    "model.compile(loss='mse', optimizer='adam', metrics=['mse'])\n",
    "model.fit([x1_train, x2_train], y_train, epochs=50, batch_size=1, validation_data=([x1_val, x2_val], y_val), verbose=0)\n",
    "\n",
    "# 4. 평가 예측\n",
    "mse = model.evaluate([x1_test, x2_test], y_test, batch_size=1)\n",
    "print(\"mse : \", mse)\n",
    "\n",
    "y_predict = model.predict([x1_test, x2_test])\n",
    "print(\"y1 예측값 : \\n\", y_predict)"
   ]
  },
  {
   "cell_type": "markdown",
   "metadata": {
    "id": "scvSpKztxlgB"
   },
   "source": [
    "- 1:다 모델\n",
    "  - 엄밀히 말하면 앙상블 모델 아님\n",
    "  - 1개의 모델이 입력되어 여러 개의 모델로 나뉘어지는 분기 모델"
   ]
  },
  {
   "cell_type": "code",
   "execution_count": null,
   "metadata": {
    "colab": {
     "base_uri": "https://localhost:8080/",
     "height": 1000
    },
    "id": "mkWO2byyxqGh",
    "outputId": "76bff865-790a-42b6-eb29-c376077eb1e7"
   },
   "outputs": [
    {
     "name": "stdout",
     "output_type": "stream",
     "text": [
      "(2, 100)\n",
      "(2, 100)\n",
      "(2, 100)\n",
      "(100, 2)\n",
      "(100, 2)\n",
      "(100, 2)\n",
      "y2_train.shape :  (80, 2)\n",
      "y2_val.shape :  (10, 2)\n",
      "y2_test.shape :  (10, 2)\n",
      "Model: \"functional_7\"\n",
      "_________________________________________________________________\n",
      "Layer (type)                 Output Shape              Param #   \n",
      "=================================================================\n",
      "input_7 (InputLayer)         [(None, 2)]               0         \n",
      "_________________________________________________________________\n",
      "dense_42 (Dense)             (None, 100)               300       \n",
      "_________________________________________________________________\n",
      "dense_43 (Dense)             (None, 30)                3030      \n",
      "_________________________________________________________________\n",
      "dense_44 (Dense)             (None, 7)                 217       \n",
      "_________________________________________________________________\n",
      "dense_45 (Dense)             (None, 30)                240       \n",
      "_________________________________________________________________\n",
      "dense_46 (Dense)             (None, 7)                 217       \n",
      "_________________________________________________________________\n",
      "dense_47 (Dense)             (None, 2)                 16        \n",
      "_________________________________________________________________\n",
      "dense_50 (Dense)             (None, 2)                 6         \n",
      "=================================================================\n",
      "Total params: 4,026\n",
      "Trainable params: 4,026\n",
      "Non-trainable params: 0\n",
      "_________________________________________________________________\n",
      "10/10 [==============================] - 0s 1ms/step - loss: 1656.6244 - dense_47_loss: 184.9236 - dense_50_loss: 1471.7009 - dense_47_mse: 184.9236 - dense_50_mse: 1471.7009\n",
      "mse :  [1656.6243896484375, 184.923583984375, 1471.700927734375, 184.923583984375, 1471.700927734375]\n",
      "y1 예측값 : \n",
      " [[606.58795 682.84314]\n",
      " [607.919   683.70404]\n",
      " [609.25006 684.56494]\n",
      " [610.5811  685.426  ]\n",
      " [611.9123  686.287  ]\n",
      " [613.24335 687.148  ]\n",
      " [614.5744  688.009  ]\n",
      " [615.9055  688.87006]\n",
      " [617.2365  689.73096]\n",
      " [618.56757 690.59186]] \n",
      " y2 예측값 : \n",
      " [[ 47.534264 167.08557 ]\n",
      " [ 47.637463 167.61128 ]\n",
      " [ 47.74066  168.137   ]\n",
      " [ 47.84386  168.6627  ]\n",
      " [ 47.947067 169.18849 ]\n",
      " [ 48.050266 169.71417 ]\n",
      " [ 48.153465 170.23988 ]\n",
      " [ 48.256668 170.76561 ]\n",
      " [ 48.359863 171.29129 ]\n",
      " [ 48.463062 171.81705 ]]\n"
     ]
    }
   ],
   "source": [
    "# 1. 데이터\n",
    "import numpy as np\n",
    "x  = np.array([range(1, 101), range(101, 201)])\n",
    "y1 = np.array([range(501, 601), range(601, 701)])\n",
    "y2 = np.array([range(1, 101), range(101, 201)])\n",
    "print(x.shape)\n",
    "print(y1.shape)\n",
    "print(y2.shape)\n",
    "\n",
    "x  = np.transpose(x)\n",
    "y1 = np.transpose(y1)\n",
    "y2 = np.transpose(y2)\n",
    "print(x.shape)\n",
    "print(y1.shape)\n",
    "print(y2.shape)\n",
    "\n",
    "from sklearn.model_selection import train_test_split\n",
    "x_train,  x_test, y1_train, y1_test = train_test_split(x,      y1,      random_state=66, test_size=0.2, shuffle = False)\n",
    "x_val,    x_test, y1_val,   y1_test = train_test_split(x_test, y1_test, random_state=66, test_size=0.5, shuffle = False)\n",
    "y2_train, y2_test                   = train_test_split(y2,              random_state=66, test_size=0.2, shuffle = False)\n",
    "y2_val,   y2_test                   = train_test_split(y2_test,         random_state=66, test_size=0.5, shuffle = False)\n",
    "\n",
    "print('y2_train.shape : ', y2_train.shape)\n",
    "print('y2_val.shape : ', y2_val.shape)\n",
    "print('y2_test.shape : ', y2_test.shape)\n",
    "\n",
    "# 2. 모델 구성\n",
    "from keras.models import Sequential, Model\n",
    "from keras.layers import Dense, Input\n",
    "input1 = Input(shape=(2,))\n",
    "dense1 = Dense(100, activation='relu')(input1)\n",
    "dense1 = Dense(30)(dense1)\n",
    "dense1 = Dense(7)(dense1)\n",
    "\n",
    "output1 = Dense(30)(dense1)\n",
    "output1 = Dense(7)(output1)\n",
    "output1 = Dense(2)(output1)\n",
    "\n",
    "output2 = Dense(30)(dense1)\n",
    "output2 = Dense(7)(output1)\n",
    "output2 = Dense(2)(output1)\n",
    "\n",
    "model = Model(inputs = input1, outputs = [output1, output2])\n",
    "model.summary()\n",
    "\n",
    "# 3. 훈련\n",
    "model.compile(loss='mse', optimizer='adam', metrics=['mse'])\n",
    "model.fit(x_train, [y1_train, y2_train], epochs=50, batch_size=1, validation_data=(x_val, [y1_val, y2_val]), verbose=0)\n",
    "\n",
    "# 4. 평가 예측\n",
    "mse = model.evaluate(x_test, [y1_test, y2_test], batch_size=1)\n",
    "print(\"mse : \", mse)\n",
    "y1_predict, y2_predict = model.predict(x_test)\n",
    "print(\"y1 예측값 : \\n\", y1_predict, \"\\n y2 예측값 : \\n\", y2_predict)"
   ]
  }
 ],
 "metadata": {
  "language_info": {
   "name": "python"
  },
  "orig_nbformat": 4
 },
 "nbformat": 4,
 "nbformat_minor": 2
}
