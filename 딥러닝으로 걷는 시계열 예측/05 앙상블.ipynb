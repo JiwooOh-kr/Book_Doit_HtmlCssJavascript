{
 "cells": [
  {
   "cell_type": "markdown",
   "metadata": {
    "id": "ELnLqog9k8eh"
   },
   "source": [
    "## concatenate"
   ]
  },
  {
   "cell_type": "code",
   "execution_count": null,
   "metadata": {
    "colab": {
     "base_uri": "https://localhost:8080/",
     "height": 251
    },
    "id": "3ftac4WWmoyK",
    "outputId": "19aae504-d2fe-47b3-8b7a-cebe3f4453fc"
   },
   "outputs": [
    {
     "data": {
      "image/png": "[encoded data removed]",
      "text/plain": [
       "<IPython.core.display.Image object>"
      ]
     },
     "metadata": {},
     "output_type": "display_data"
    }
   ],
   "source": [
    "Image('/content/drive/My Drive/Prediction of Time Series Walking in Deep Learning/pic/ch05_01.png', width=300)"
   ]
  },
  {
   "cell_type": "code",
   "execution_count": null,
   "metadata": {
    "colab": {
     "base_uri": "https://localhost:8080/",
     "height": 950
    },
    "id": "Nrvx-Arxk-aS",
    "outputId": "2f18b769-0401-49d5-c8ad-d897bffd0b3e"
   },
   "outputs": [
    {
     "name": "stdout",
     "output_type": "stream",
     "text": [
      "Model: \"functional_1\"\n",
      "__________________________________________________________________________________________________\n",
      "Layer (type)                    Output Shape         Param #     Connected to                     \n",
      "==================================================================================================\n",
      "input_1 (InputLayer)            [(None, 3)]          0                                            \n",
      "__________________________________________________________________________________________________\n",
      "dense_4 (Dense)                 (None, 100)          400         input_1[0][0]                    \n",
      "__________________________________________________________________________________________________\n",
      "input_2 (InputLayer)            [(None, 3)]          0                                            \n",
      "__________________________________________________________________________________________________\n",
      "dense_5 (Dense)                 (None, 30)           3030        dense_4[0][0]                    \n",
      "__________________________________________________________________________________________________\n",
      "dense_7 (Dense)                 (None, 50)           200         input_2[0][0]                    \n",
      "__________________________________________________________________________________________________\n",
      "dense_6 (Dense)                 (None, 7)            217         dense_5[0][0]                    \n",
      "__________________________________________________________________________________________________\n",
      "dense_8 (Dense)                 (None, 7)            357         dense_7[0][0]                    \n",
      "__________________________________________________________________________________________________\n",
      "concatenate (Concatenate)       (None, 14)           0           dense_6[0][0]                    \n",
      "                                                                 dense_8[0][0]                    \n",
      "__________________________________________________________________________________________________\n",
      "dense_9 (Dense)                 (None, 10)           150         concatenate[0][0]                \n",
      "__________________________________________________________________________________________________\n",
      "dense_10 (Dense)                (None, 5)            55          dense_9[0][0]                    \n",
      "__________________________________________________________________________________________________\n",
      "dense_11 (Dense)                (None, 1)            6           dense_10[0][0]                   \n",
      "==================================================================================================\n",
      "Total params: 4,415\n",
      "Trainable params: 4,415\n",
      "Non-trainable params: 0\n",
      "__________________________________________________________________________________________________\n",
      "20/20 [==============================] - 0s 1ms/step - loss: 58.1918 - mse: 58.1918\n",
      "mse :  [58.191802978515625, 58.191802978515625]\n",
      "[581] [586.4735]\n",
      "[582] [587.6895]\n",
      "[583] [588.9055]\n",
      "[584] [590.1215]\n",
      "[585] [591.33765]\n",
      "[586] [592.5537]\n",
      "[587] [593.7697]\n",
      "[588] [594.98584]\n",
      "[589] [596.2019]\n",
      "[590] [597.4181]\n",
      "[591] [598.634]\n",
      "[592] [599.85]\n",
      "[593] [601.0661]\n",
      "[594] [602.28217]\n",
      "[595] [603.4982]\n",
      "[596] [604.71423]\n",
      "[597] [605.9302]\n",
      "[598] [607.1464]\n",
      "[599] [608.36237]\n",
      "[600] [609.5785]\n"
     ]
    }
   ],
   "source": [
    "# 1. 데이터\n",
    "import numpy as np\n",
    "x1 = np.array([range(100), range(311,411), range(100)])\n",
    "x2 = np.array([range(101,201), range(311,411), range(101,201)])\n",
    "y  = np.array([range(501,601)]) #, range(711,811), range(100)]\n",
    "\n",
    "x1 = np.transpose(x1)\n",
    "y  = np.transpose(y)\n",
    "x2 = np.transpose(x2)\n",
    "\n",
    "from sklearn.model_selection import train_test_split\n",
    "x1_train, x1_test, y_train, y_test = train_test_split(x1, y, random_state=66, test_size=0.4, shuffle=False)\n",
    "x1_val,   x1_test, y_val,   y_test = train_test_split(x1_test, y_test, random_state=66, test_size=0.5, shuffle=False)\n",
    "x2_train, x2_test                  = train_test_split(x2, random_state=66, test_size=0.4, shuffle=False)\n",
    "x2_val,   x2_test                  = train_test_split(x2_test, random_state=66, test_size=0.5, shuffle = False)\n",
    "\n",
    "# 2. 모델 구성\n",
    "# 2개의 모델을 만든 뒤 다시 병합\n",
    "from keras.models import Sequential, Model\n",
    "from keras.layers import Dense, Input\n",
    "\n",
    "# 히든 레이어의 깊이는 설정값\n",
    "input1   = Input(shape=(3,))\n",
    "dense1   = Dense(100, activation='relu')(input1)\n",
    "dense1_2 = Dense(30)(dense1)\n",
    "dense1_3 = Dense(7)(dense1_2)\n",
    "\n",
    "input2   = Input(shape=(3,))\n",
    "dense2   = Dense(50, activation='relu')(input2)\n",
    "dense2_2 = Dense(7)(dense2)\n",
    "\n",
    "# concatenate는 keras.layers와 keras.layers.merge 두 곳 중에 아무 곳에서나 import해주면 된다.\n",
    "from keras.layers.merge import concatenate\n",
    "merge1 = concatenate([dense1_3, dense2_2])\n",
    "\n",
    "# 위와 동일한 기능\n",
    "# from keras.layers.merge import Concatenate\n",
    "# merge1 = Concatenate()([dense1_3, dense2_2])\n",
    "\n",
    "model1 = Dense(10)(merge1)\n",
    "model2 = Dense(5)(model1)\n",
    "output = Dense(1)(model2)\n",
    "\n",
    "model = Model(inputs = [input1, input2], outputs = output)\n",
    "model.summary()\n",
    "\n",
    "# 3. 훈련\n",
    "model.compile(loss='mse', optimizer='adam', metrics=['mse'])\n",
    "# x의 입력데이터가 2개 -> [x1_train, x2_train]가 리스트 형태\n",
    "model.fit([x1_train, x2_train], y_train, epochs=100, batch_size=1, validation_data=([x1_val, x2_val] , y_val), verbose=0)\n",
    "\n",
    "# 4. 평가 예측\n",
    "mse = model.evaluate([x1_test, x2_test], y_test, batch_size=1)\n",
    "print(\"mse : \", mse)\n",
    "\n",
    "y_predict = model.predict([x1_test, x2_test])\n",
    "for i in range(len(y_predict)):\n",
    "    print(y_test[i], y_predict[i])"
   ]
  },
  {
   "cell_type": "markdown",
   "metadata": {
    "id": "jqgtthp3ny49"
   },
   "source": [
    "## Merge Layer"
   ]
  },
  {
   "cell_type": "markdown",
   "metadata": {
    "id": "8GzkEdqUn0YD"
   },
   "source": [
    "- Add\n",
    "  - keras.layers.Add()\n",
    "  - layer끼리 단순한 더하기\n",
    "  - 동일한 모양의 텐서 목록을 입력으로 사용, 하나의 텐서(같은 모양)를 반환"
   ]
  },
  {
   "cell_type": "markdown",
   "metadata": {
    "id": "gBwbig9Jn4Ip"
   },
   "source": [
    "```\n",
    "import keras\n",
    "input1 = keras.layers.Input(shape=(16,))\n",
    "x1     = keras.layers.Dense(8, activation='relu')(input1)\n",
    "input2 = keras.layers.Input(shape=(32,))\n",
    "x2     = keras.layers.Dense(8, activation='relu')(input2)\n",
    "added  = keras.layers.Add()([x1, x2])\n",
    "\n",
    "out   = keras.layers.Dense(4)(added)\n",
    "model = keras.models.Model(inputs=[input1, input2], outputs=out)\n",
    "```"
   ]
  },
  {
   "cell_type": "markdown",
   "metadata": {
    "id": "XJeIKxsBn7pd"
   },
   "source": [
    "- Subtract\n",
    "  - keras.layers.Subtract()\n",
    "  - layer끼리의 단순한 뺄셈\n",
    "  - 동일한 모양의 크기 2인 텐서 목록을 입력으로 사용, 동일한 모양의 단일 텐서(입력[0] - 입력[1])를 반환"
   ]
  },
  {
   "cell_type": "markdown",
   "metadata": {
    "id": "dKvvf50eoDSZ"
   },
   "source": [
    "```\n",
    "import keras\n",
    "input1     = keras.layers.Input(shape=(16,))\n",
    "x1         = keras.layers.Dense(8, activation='relu')(input1)\n",
    "input2     = keras.layers.Input(shape=(32,))\n",
    "x2         = keras.layers.Dense(8, activation='relu')(input2)\n",
    "subtracted = keras.layers.Subtract()([x1, x2])\n",
    "\n",
    "out   = keras.layers.Dense(4)(subtracted)\n",
    "model = keras.models.Model(inputs=[input1, input2], outputs=out)\n",
    "```"
   ]
  },
  {
   "cell_type": "markdown",
   "metadata": {
    "id": "z_UYoFXMoDcb"
   },
   "source": [
    "- Multiply\n",
    "  - keras.layers.Multiply()\n",
    "  - layer끼리의 입력 목록을 요소 별로 곱하는 레이어\n",
    "  - 동일한 모양의 텐서 목록을 입력으로 사용, 하나의 텐서를 반환"
   ]
  },
  {
   "cell_type": "markdown",
   "metadata": {
    "id": "LypDm8TCoo_h"
   },
   "source": [
    "- Average\n",
    "  - keras.layers.Average()\n",
    "  - 인풋 리스트의 평균을 내는 레이어\n",
    "  - 동일한 모양의 텐서 목록을 입력으로 사용, 하나의 텐서를 반환\n"
   ]
  },
  {
   "cell_type": "markdown",
   "metadata": {
    "id": "mhz3dfZGoxQu"
   },
   "source": [
    "- Maximum\n",
    "  - keras.layers.Maximum()\n",
    "  - 입력 목록의 최대(요소 별로)를 계산하는 레이어\n",
    "  - 동일한 모양의 텐서 목록을 입력으로 사용, 하나의 텐서를 반환"
   ]
  },
  {
   "cell_type": "markdown",
   "metadata": {
    "id": "m7A2gIAPo5kU"
   },
   "source": [
    "- Minimum\n",
    "  - keras.layers.Minimum()\n",
    "  - 입력 목록의 최소(요소 별로)를 계산하는 레이어\n",
    "  - 동일한 모양의 텐서 목록을 입력으로 사용, 하나의 텐서를 반환"
   ]
  },
  {
   "cell_type": "markdown",
   "metadata": {
    "id": "HkJesptSo81J"
   },
   "source": [
    "- Concatenate\n",
    "  - keras.layers.Concatenate(axis=-1)\n",
    "  - 입력 목록을 연결하는 계층\n",
    "  - 연결 축을 제외한 동일한 모양의 텐서 목록을 입력으로 사용, 모든 입력의 연결인 단일 텐서를 반환"
   ]
  },
  {
   "cell_type": "markdown",
   "metadata": {
    "id": "NowaAD-LpIQW"
   },
   "source": [
    "- Dot\n",
    "  - keras.layers.Dot(axis, normalize=False)\n",
    "  - 두 텐서에서 샘플 간 내적을 계산하는 레이어\n",
    "  - 2개의 텐서 a와 b의 모양(batch_size, n) 목록에 적용되는 경우, 출력은 모양의 텐서(batch_size, 1)\n",
    "    - 각 항목 i는 a[i]와 b[i] 사이의 내적"
   ]
  },
  {
   "cell_type": "markdown",
   "metadata": {
    "id": "qc7IVRv0pcX2"
   },
   "source": [
    "- add\n",
    "  - keras.layers.add(inputs)\n",
    "  - Add와 같은 결과를 나타내지만, 사용법이 약간 다름\n",
    "    - Add : added = keras.layers.Add()([x1, x2])\n",
    "    - add : added = keras.layers.add([x1, x2])"
   ]
  },
  {
   "cell_type": "markdown",
   "metadata": {
    "id": "ZRz7TidJpjUA"
   },
   "source": [
    "```\n",
    "import keras\n",
    "input1 = keras.layers.Input(shape=(16,))\n",
    "x1     = keras.layers.Dense(8, activation='relu')(input1)\n",
    "input2 = keras.layers.Input(shape=(32,))\n",
    "x2     = keras.layers.Dense(8, activation='relu')(input2)\n",
    "added  = keras.layers.add([x1, x2])\n",
    "\n",
    "out   = keras.layers.Dense(4)(added)\n",
    "model = keras.models.Model(inputs=[input1, input2], outputs=out)\n",
    "```\n",
    "\n"
   ]
  },
  {
   "cell_type": "markdown",
   "metadata": {
    "id": "Q5JaXe7apnEj"
   },
   "source": [
    "- subtract\n",
    "  - keras.layers.subtract(inputs)\n",
    "  - 레이어 간 노드의 빼기\n",
    "  - Subtract와 동일한 사용법, () 주의"
   ]
  },
  {
   "cell_type": "markdown",
   "metadata": {
    "id": "-w9Dwo6gp0MV"
   },
   "source": [
    "```\n",
    "import keras\n",
    "input1     = keras.layers.Input(shape=(16,))\n",
    "x1         = keras.layers.Dense(8, activation='relu')(input1)\n",
    "input2     = keras.layers.Input(shape=(32,))\n",
    "x2         = keras.layers.Dense(8, activation='relu')(input2)\n",
    "subtracted = keras.layers.subtract([x1, x2])\n",
    "\n",
    "out   = keras.layers.Dense(4)(subtracted)\n",
    "model = keras.models.Model(inputs=[input1, input2], outputs=out)\n",
    "```"
   ]
  },
  {
   "cell_type": "markdown",
   "metadata": {
    "id": "4kVl6WuVqBlB"
   },
   "source": [
    "- multiply\n",
    "  - keras.layers.multiply(inputs)\n",
    "  - Multiply와 동일한 사용법, () 주의\n",
    "  - Input tensor가 최소 2개 이상"
   ]
  },
  {
   "cell_type": "markdown",
   "metadata": {
    "id": "aXsT2ApEqife"
   },
   "source": [
    "- average\n",
    "  - keras.layers.average(inputs)\n",
    "  - Average와 동일한 사용법, () 주의\n",
    "  - Input tensor가 최소 2개 이상"
   ]
  },
  {
   "cell_type": "markdown",
   "metadata": {
    "id": "qzp3Nr89qqRT"
   },
   "source": [
    "- maximun\n",
    "  - keras.layers.maximun(inputs)\n",
    "  - Maximun과 동일한 사용법, () 주의\n",
    "  - Input tensor가 최소 2개 이상"
   ]
  },
  {
   "cell_type": "markdown",
   "metadata": {
    "id": "rfCcCJWeqt29"
   },
   "source": [
    "- minimum\n",
    "  - keras.layers.minimum(inputs)\n",
    "  - Minimum과 동일한 사용법, () 주의\n",
    "  - Input tensor가 최소 2개 이상"
   ]
  },
  {
   "cell_type": "markdown",
   "metadata": {
    "id": "3346c80wqwmA"
   },
   "source": [
    "- concatenate\n",
    "  - keras.layers.concatenate(inputs, axis=-1)\n",
    "  - concatenate와 동일한 사용법"
   ]
  },
  {
   "cell_type": "markdown",
   "metadata": {
    "id": "T9RGpAb7q8V-"
   },
   "source": [
    "- dot\n",
    "  - keras.layers.dot(inputs, axis, normalize=False)\n",
    "  - dot과 동일한 사용법, () 주의\n",
    "  - inputs는 2개 이상의 텐서\n",
    "  - normalize()는 L2 정규화의 여부"
   ]
  }
 ],
 "metadata": {
  "language_info": {
   "name": "python"
  },
  "orig_nbformat": 4
 },
 "nbformat": 4,
 "nbformat_minor": 2
}
