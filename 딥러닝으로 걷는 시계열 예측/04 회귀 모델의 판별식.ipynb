{
 "cells": [
  {
   "cell_type": "markdown",
   "metadata": {
    "id": "gKtwBKx0Xt7T"
   },
   "source": [
    "## 회귀 모델의 판별식"
   ]
  },
  {
   "cell_type": "code",
   "execution_count": null,
   "metadata": {
    "colab": {
     "base_uri": "https://localhost:8080/",
     "height": 545
    },
    "id": "Xxdk6OAmU__I",
    "outputId": "fb7fc725-165b-4e79-d791-62ea32fd8df0"
   },
   "outputs": [
    {
     "name": "stdout",
     "output_type": "stream",
     "text": [
      "Model: \"sequential_3\"\n",
      "_________________________________________________________________\n",
      "Layer (type)                 Output Shape              Param #   \n",
      "=================================================================\n",
      "dense_9 (Dense)              (None, 5)                 10        \n",
      "_________________________________________________________________\n",
      "dense_10 (Dense)             (None, 3)                 18        \n",
      "_________________________________________________________________\n",
      "dense_11 (Dense)             (None, 1)                 4         \n",
      "=================================================================\n",
      "Total params: 32\n",
      "Trainable params: 32\n",
      "Non-trainable params: 0\n",
      "_________________________________________________________________\n",
      "10/10 [==============================] - 0s 1ms/step - loss: 1.7129e-04 - mse: 1.7129e-04\n",
      "loss :  0.00017128794570453465\n",
      "mse :  0.00017128794570453465\n",
      "결과물 : \n",
      " [[101.01248 ]\n",
      " [102.01262 ]\n",
      " [103.01275 ]\n",
      " [104.012886]\n",
      " [105.013016]\n",
      " [106.01315 ]\n",
      " [107.013275]\n",
      " [108.01341 ]\n",
      " [109.01355 ]\n",
      " [110.01368 ]]\n",
      "RMSE :  0.013087686512554778\n",
      "R2 :  0.9999792378741514\n"
     ]
    }
   ],
   "source": [
    "from keras.models import Sequential\n",
    "from keras.layers import Dense\n",
    "import numpy as np\n",
    "\n",
    "x_train = np.array([1,2,3,4,5,6,7,8,9,10])\n",
    "y_train = np.array([1,2,3,4,5,6,7,8,9,10])\n",
    "x_test  = np.array([101,102,103,104,105,106,107,108,109,110])\n",
    "y_test  = np.array([101,102,103,104,105,106,107,108,109,110])\n",
    "\n",
    "model = Sequential()\n",
    "model.add(Dense(5, input_dim =1 , activation='relu'))\n",
    "model.add(Dense(3))\n",
    "model.add(Dense(1, activation='relu'))\n",
    "model.summary()\n",
    "\n",
    "model.compile(loss='mse', optimizer='adam', metrics=['mse'])\n",
    "model.fit(x_train, y_train, epochs=100, batch_size=1, validation_data = (x_test, y_test), verbose=0)\n",
    "loss, mse = model.evaluate(x_test, y_test, batch_size =1)\n",
    "\n",
    "print(\"loss : \", loss)\n",
    "print(\"mse : \", mse)\n",
    "y_predict = model.predict(x_test)\n",
    "print(\"결과물 : \\n\", y_predict)\n",
    "\n",
    "# RMSE : 회귀 분석 시 가장 많이 쓰는 평가지표, 낮을수록 좋음\n",
    "from sklearn.metrics import mean_squared_error\n",
    "def RMSE(y_test, y_predict):\n",
    "    return np.sqrt(mean_squared_error(y_test, y_predict))\n",
    "print(\"RMSE : \", RMSE(y_test, y_predict))\n",
    "\n",
    "# R2(= R2 Score, R제곱, 설명력, 결정계수, ...) : 회귀 분석에서 가장 많이 사용하는 지표, 1에 가까울수록 좋음\n",
    "from sklearn.metrics import r2_score\n",
    "r2_y_predict = r2_score(y_test, y_predict)\n",
    "print(\"R2 : \", r2_y_predict)"
   ]
  },
  {
   "cell_type": "markdown",
   "metadata": {
    "id": "KN9_K-ulYfKw"
   },
   "source": [
    "## 회귀 모델 추가 코딩"
   ]
  },
  {
   "cell_type": "markdown",
   "metadata": {
    "id": "fjKT_pI7YrPz"
   },
   "source": [
    "- Validation 추가"
   ]
  },
  {
   "cell_type": "code",
   "execution_count": null,
   "metadata": {
    "colab": {
     "base_uri": "https://localhost:8080/",
     "height": 301
    },
    "id": "d2FFPK7FYgmY",
    "outputId": "73bb98fa-2f4c-4dbe-b9e1-8f6e2ad5c083"
   },
   "outputs": [
    {
     "name": "stdout",
     "output_type": "stream",
     "text": [
      "10/10 [==============================] - 0s 1ms/step - loss: 5.0812e-05 - mse: 5.0812e-05\n",
      "mse :  [5.0811901019187644e-05, 5.0811901019187644e-05]\n",
      "WARNING:tensorflow:5 out of the last 5 calls to <function Model.make_predict_function.<locals>.predict_function at 0x7fdd22a21a60> triggered tf.function retracing. Tracing is expensive and the excessive number of tracings could be due to (1) creating @tf.function repeatedly in a loop, (2) passing tensors with different shapes, (3) passing Python objects instead of tensors. For (1), please define your @tf.function outside of the loop. For (2), @tf.function has experimental_relax_shapes=True option that relaxes argument shapes that can avoid unnecessary retracing. For (3), please refer to https://www.tensorflow.org/tutorials/customization/performance#python_or_tensor_args and https://www.tensorflow.org/api_docs/python/tf/function for  more details.\n",
      "[[11.005318 ]\n",
      " [12.0057   ]\n",
      " [13.0060835]\n",
      " [14.006468 ]\n",
      " [15.006851 ]\n",
      " [16.007233 ]\n",
      " [17.007618 ]\n",
      " [18.008    ]\n",
      " [19.008385 ]\n",
      " [20.008768 ]]\n",
      "RMSE :  0.0071278843985278185\n",
      "R2 :  0.9999938416077577\n"
     ]
    }
   ],
   "source": [
    "#1. 데이터\n",
    "import numpy as np\n",
    "x_train = np.array([1,2,3,4,5,6,7,8,9,10])\n",
    "y_train = np.array([1,2,3,4,5,6,7,8,9,10])\n",
    "x_test  = np.array([11,12,13,14,15,16,17,18,19,20])\n",
    "y_test  = np.array([11,12,13,14,15,16,17,18,19,20])\n",
    "# 데이터가 많아질수록 검증셋을 분리하여 훈련하는 것이 머신의 훈련에 훨씬 더 좋은 효과 발휘\n",
    "x_val   = np.array([101,102,103,104,105])\n",
    "y_val   = np.array([101,102,103,104,105])\n",
    "\n",
    "#2. 모델 구성\n",
    "from keras.models import Sequential\n",
    "from keras.layers import Dense\n",
    "model = Sequential()\n",
    "\n",
    "model.add(Dense(5, input_shape = (1, ), activation ='relu'))\n",
    "model.add(Dense(3))\n",
    "model.add(Dense(4))\n",
    "model.add(Dense(1))\n",
    "\n",
    "#3. 훈련\n",
    "model.compile(loss='mse', optimizer='adam', metrics=['mse'])\n",
    "model.fit(x_train, y_train, epochs=1000, batch_size=1, validation_data=(x_val, y_val), verbose=0)\n",
    "\n",
    "#4. 평가 예측\n",
    "mse       = model.evaluate(x_test, y_test, batch_size=1)\n",
    "print(\"mse : \", mse)\n",
    "y_predict = model.predict(x_test)\n",
    "print(y_predict)\n",
    "\n",
    "#RMSE 구하기\n",
    "from sklearn.metrics import mean_squared_error\n",
    "def RMSE(y_test, y_predict):\n",
    "    return np.sqrt(mean_squared_error(y_test, y_predict))\n",
    "print(\"RMSE : \", RMSE(y_test, y_predict))\n",
    "\n",
    "# R2 구하기\n",
    "from sklearn.metrics import r2_score\n",
    "r2_y_predict = r2_score(y_test, y_predict)\n",
    "print(\"R2 : \", r2_y_predict)"
   ]
  },
  {
   "cell_type": "markdown",
   "metadata": {
    "id": "s5WSSLrOZZAt"
   },
   "source": [
    "- 데이터 분리"
   ]
  },
  {
   "cell_type": "code",
   "execution_count": null,
   "metadata": {
    "colab": {
     "base_uri": "https://localhost:8080/",
     "height": 439
    },
    "id": "eWJz63w3ZaIN",
    "outputId": "f8aca199-5b9a-4d4f-c4d3-2591de884c9f"
   },
   "outputs": [
    {
     "name": "stdout",
     "output_type": "stream",
     "text": [
      "20/20 [==============================] - 0s 977us/step - loss: 5.4208e-04 - mse: 5.4208e-04\n",
      "mse :  [0.0005420809611678123, 0.0005420809611678123]\n",
      "[[80.97989 ]\n",
      " [81.97956 ]\n",
      " [82.97924 ]\n",
      " [83.978905]\n",
      " [84.978584]\n",
      " [85.97826 ]\n",
      " [86.977936]\n",
      " [87.977615]\n",
      " [88.97729 ]\n",
      " [89.97695 ]\n",
      " [90.97664 ]\n",
      " [91.9763  ]\n",
      " [92.975975]\n",
      " [93.975655]\n",
      " [94.975334]\n",
      " [95.975   ]\n",
      " [96.974686]\n",
      " [97.97435 ]\n",
      " [98.974014]\n",
      " [99.9737  ]]\n",
      "RMSE :  0.0232818405880321\n",
      "R2 :  0.9999836979217694\n"
     ]
    }
   ],
   "source": [
    "# 1. 데이터\n",
    "import numpy as np\n",
    "x = np.array(range(1,101))\n",
    "y = np.array(range(1,101))\n",
    "\n",
    "x_train = x[:60]\n",
    "x_val   = x[60:80]\n",
    "x_test  = x[80:]\n",
    "y_train = y[:60]\n",
    "y_val   = y[60:80]\n",
    "y_test  = y[80:]\n",
    "\n",
    "# 2. 모델 구성\n",
    "from keras.models import Sequential\n",
    "from keras.layers import Dense\n",
    "model = Sequential()\n",
    "\n",
    "model.add(Dense(5, input_shape = (1, ), activation ='relu'))\n",
    "model.add(Dense(3))\n",
    "model.add(Dense(4))\n",
    "model.add(Dense(1))\n",
    "\n",
    "# 3. 훈련\n",
    "model.compile(loss='mse', optimizer='adam', metrics=['mse'])\n",
    "model.fit(x_train, y_train, epochs=300, batch_size=1, validation_data=(x_val, y_val), verbose=0)\n",
    "\n",
    "# 4. 평가 예측\n",
    "mse       = model.evaluate(x_test, y_test, batch_size=1)\n",
    "print(\"mse : \", mse)\n",
    "y_predict = model.predict(x_test)\n",
    "print(y_predict)\n",
    "\n",
    "# RMSE 구하기\n",
    "from sklearn.metrics import mean_squared_error\n",
    "def RMSE(y_test, y_predict):\n",
    "    return np.sqrt(mean_squared_error(y_test, y_predict))\n",
    "print(\"RMSE : \", RMSE(y_test, y_predict))\n",
    "\n",
    "# R2 구하기\n",
    "from sklearn.metrics import r2_score\n",
    "r2_y_predict = r2_score(y_test, y_predict)\n",
    "print(\"R2 : \", r2_y_predict)"
   ]
  },
  {
   "cell_type": "code",
   "execution_count": null,
   "metadata": {
    "colab": {
     "base_uri": "https://localhost:8080/",
     "height": 193
    },
    "id": "t4CHxMFXfAwv",
    "outputId": "658dd18f-8505-4a8a-9381-df99b4d3cbe9"
   },
   "outputs": [
    {
     "name": "stdout",
     "output_type": "stream",
     "text": [
      "[[100.97338 ]\n",
      " [101.97305 ]\n",
      " [102.97272 ]\n",
      " [103.9724  ]\n",
      " [104.97208 ]\n",
      " [105.97175 ]\n",
      " [106.97142 ]\n",
      " [107.97109 ]\n",
      " [108.97077 ]\n",
      " [109.970436]]\n"
     ]
    }
   ],
   "source": [
    "# 아예 새로운 값으로 predict\n",
    "x_predict = np.array(range(101,111))\n",
    "y_predict = model.predict(x_predict)\n",
    "print(y_predict)"
   ]
  },
  {
   "cell_type": "markdown",
   "metadata": {
    "id": "s8kN_9mLgNDq"
   },
   "source": [
    "- train_test_split"
   ]
  },
  {
   "cell_type": "code",
   "execution_count": null,
   "metadata": {
    "colab": {
     "base_uri": "https://localhost:8080/",
     "height": 439
    },
    "id": "_nzZwkf1gPww",
    "outputId": "4f352755-e6d9-47b5-c8e2-bbb913d4880a"
   },
   "outputs": [
    {
     "name": "stdout",
     "output_type": "stream",
     "text": [
      "20/20 [==============================] - 0s 930us/step - loss: 8.2045e-05 - mse: 8.2045e-05\n",
      "mse :  [8.204490586649626e-05, 8.204490586649626e-05]\n",
      "[[80.99221 ]\n",
      " [81.99207 ]\n",
      " [82.99194 ]\n",
      " [83.99182 ]\n",
      " [84.99169 ]\n",
      " [85.99156 ]\n",
      " [86.991425]\n",
      " [87.9913  ]\n",
      " [88.99117 ]\n",
      " [89.99103 ]\n",
      " [90.9909  ]\n",
      " [91.99078 ]\n",
      " [92.990654]\n",
      " [93.990524]\n",
      " [94.990395]\n",
      " [95.99026 ]\n",
      " [96.99012 ]\n",
      " [97.98999 ]\n",
      " [98.98987 ]\n",
      " [99.98974 ]]\n",
      "RMSE :  0.009058204089478106\n",
      "R2 :  0.9999975322989074\n"
     ]
    }
   ],
   "source": [
    "# 1. 데이터\n",
    "import numpy as np\n",
    "x = np.array(range(1,101))\n",
    "y = np.array(range(1,101))\n",
    "\n",
    "# shuffle=False : 잘라낸 데이터 섞지 않음\n",
    "# train : val : test = 6 : 2 : 2\n",
    "from sklearn.model_selection import train_test_split\n",
    "x_train, x_test, y_train, y_test = train_test_split(x, y, random_state=66, test_size=0.4, shuffle=False)\n",
    "x_val, x_test, y_val, y_test     = train_test_split(x_test, y_test, random_state=66, test_size=0.5, shuffle=False)\n",
    "\n",
    "# 2. 모델 구성\n",
    "from keras.models import Sequential\n",
    "from keras.layers import Dense\n",
    "model = Sequential()\n",
    "\n",
    "model.add(Dense(5, input_shape = (1, ), activation ='relu'))\n",
    "model.add(Dense(3))\n",
    "model.add(Dense(4))\n",
    "model.add(Dense(1))\n",
    "\n",
    "# 3. 훈련\n",
    "model.compile(loss='mse', optimizer='adam', metrics=['mse'])\n",
    "model.fit(x_train, y_train, epochs=300, batch_size=1, validation_data=(x_val, y_val), verbose=0)\n",
    "\n",
    "# 4. 평가 예측\n",
    "mse       = model.evaluate(x_test, y_test, batch_size=1)\n",
    "print(\"mse : \", mse)\n",
    "y_predict = model.predict(x_test)\n",
    "print(y_predict)\n",
    "\n",
    "# RMSE 구하기\n",
    "from sklearn.metrics import mean_squared_error\n",
    "def RMSE(y_test, y_predict):\n",
    "    return np.sqrt(mean_squared_error(y_test, y_predict))\n",
    "print(\"RMSE : \", RMSE(y_test, y_predict))\n",
    "\n",
    "# R2 구하기\n",
    "from sklearn.metrics import r2_score\n",
    "r2_y_predict = r2_score(y_test, y_predict)\n",
    "print(\"R2 : \", r2_y_predict)"
   ]
  },
  {
   "cell_type": "markdown",
   "metadata": {
    "id": "qMBU9pz_hSSI"
   },
   "source": [
    "## 함수형 모델"
   ]
  },
  {
   "cell_type": "markdown",
   "metadata": {
    "id": "ct8oe5ixhTmQ"
   },
   "source": [
    "- 1:1"
   ]
  },
  {
   "cell_type": "code",
   "execution_count": null,
   "metadata": {
    "colab": {
     "base_uri": "https://localhost:8080/",
     "height": 794
    },
    "id": "rrIohpUFhUT-",
    "outputId": "c247ef82-fdeb-4e2e-fa6d-f0bae09437ff"
   },
   "outputs": [
    {
     "name": "stdout",
     "output_type": "stream",
     "text": [
      "Model: \"functional_3\"\n",
      "_________________________________________________________________\n",
      "Layer (type)                 Output Shape              Param #   \n",
      "=================================================================\n",
      "input_2 (InputLayer)         [(None, 1)]               0         \n",
      "_________________________________________________________________\n",
      "dense_16 (Dense)             (None, 5)                 10        \n",
      "_________________________________________________________________\n",
      "dense_17 (Dense)             (None, 3)                 18        \n",
      "_________________________________________________________________\n",
      "dense_18 (Dense)             (None, 4)                 16        \n",
      "_________________________________________________________________\n",
      "dense_19 (Dense)             (None, 1)                 5         \n",
      "=================================================================\n",
      "Total params: 49\n",
      "Trainable params: 49\n",
      "Non-trainable params: 0\n",
      "_________________________________________________________________\n",
      "20/20 [==============================] - 0s 1ms/step - loss: 4.0163e-10 - mse: 4.0163e-10\n",
      "mse :  [4.0163286585404023e-10, 4.0163286585404023e-10]\n",
      "WARNING:tensorflow:5 out of the last 6 calls to <function Model.make_predict_function.<locals>.predict_function at 0x7f7814fcb268> triggered tf.function retracing. Tracing is expensive and the excessive number of tracings could be due to (1) creating @tf.function repeatedly in a loop, (2) passing tensors with different shapes, (3) passing Python objects instead of tensors. For (1), please define your @tf.function outside of the loop. For (2), @tf.function has experimental_relax_shapes=True option that relaxes argument shapes that can avoid unnecessary retracing. For (3), please refer to https://www.tensorflow.org/tutorials/customization/performance#python_or_tensor_args and https://www.tensorflow.org/api_docs/python/tf/function for  more details.\n",
      "[[80.99999 ]\n",
      " [81.999985]\n",
      " [82.999985]\n",
      " [83.999985]\n",
      " [84.99998 ]\n",
      " [85.99998 ]\n",
      " [86.999985]\n",
      " [87.999985]\n",
      " [88.999985]\n",
      " [89.999985]\n",
      " [90.999985]\n",
      " [91.99998 ]\n",
      " [92.99998 ]\n",
      " [93.99997 ]\n",
      " [94.99998 ]\n",
      " [95.999985]\n",
      " [96.99998 ]\n",
      " [97.99998 ]\n",
      " [98.99997 ]\n",
      " [99.99998 ]]\n",
      "RMSE :  2.025744330955773e-05\n",
      "R2 :  0.9999999999876582\n"
     ]
    }
   ],
   "source": [
    "# 1. 데이터\n",
    "import numpy as np\n",
    "x = np.array(range(1,101))\n",
    "y = np.array(range(1,101))\n",
    "\n",
    "from sklearn.model_selection import train_test_split\n",
    "x_train, x_test, y_train, y_test = train_test_split(x, y, random_state=66, test_size=0.4, shuffle=False)\n",
    "x_val, x_test, y_val, y_test     = train_test_split(x_test, y_test, random_state=66, test_size=0.5, shuffle=False)\n",
    "\n",
    "# 2. 모델 구성\n",
    "from keras.models import Sequential, Model # Model을 추가해준다.\n",
    "from keras.layers import Dense, Input      # Input 레이어를 추가해준다.\n",
    "\n",
    "# Input 레이어 구성, 1개의 컬럼이 들어가므로 shape은 (1,)\n",
    "input1  = Input(shape=(1,))\n",
    "# 상위층에서 출력된 레이어의 이름을 하위층의 가장 끝부분에 명시\n",
    "dense1  = Dense(5, activation='relu')(input1)\n",
    "dense2  = Dense(3)(dense1)\n",
    "dense3  = Dense(4)(dense2)\n",
    "output1 = Dense(1)(dense3)\n",
    "# Model로 전체 레이어를 엮어준다.\n",
    "model   = Model(inputs = input1, outputs= output1)\n",
    "model.summary()\n",
    "\n",
    "# 3. 훈련\n",
    "model.compile(loss='mse', optimizer='adam', metrics=['mse'])\n",
    "model.fit(x_train, y_train, epochs=100, batch_size=1, validation_data=(x_val, y_val), verbose=0)\n",
    "\n",
    "# 4. 평가 예측\n",
    "mse       = model.evaluate(x_test, y_test, batch_size=1)\n",
    "print(\"mse : \", mse)\n",
    "y_predict = model.predict(x_test)\n",
    "print(y_predict)\n",
    "\n",
    "# RMSE 구하기\n",
    "from sklearn.metrics import mean_squared_error\n",
    "def RMSE(y_test, y_predict):\n",
    "    return np.sqrt(mean_squared_error(y_test, y_predict))\n",
    "print(\"RMSE : \", RMSE(y_test, y_predict))\n",
    "\n",
    "# R2 구하기\n",
    "from sklearn.metrics import r2_score\n",
    "r2_y_predict = r2_score(y_test, y_predict)\n",
    "print(\"R2 : \", r2_y_predict)"
   ]
  },
  {
   "cell_type": "markdown",
   "metadata": {
    "id": "2VvexXJxiG6A"
   },
   "source": [
    "- 다:다"
   ]
  },
  {
   "cell_type": "code",
   "execution_count": null,
   "metadata": {
    "colab": {
     "base_uri": "https://localhost:8080/",
     "height": 158
    },
    "id": "dp56dDGsiIr4",
    "outputId": "f30c1a90-51e4-439f-a4c8-6e237f9f7125"
   },
   "outputs": [
    {
     "name": "stdout",
     "output_type": "stream",
     "text": [
      "(2, 100)\n",
      "(2, 100)\n",
      "(100, 2)\n",
      "(100, 2)\n",
      "20/20 [==============================] - 0s 920us/step - loss: 1388.9763 - mse: 1388.9763\n",
      "mse :  [1388.976318359375, 1388.976318359375]\n",
      "RMSE :  37.268974769855596\n",
      "R2 :  -40.773728733718286\n"
     ]
    }
   ],
   "source": [
    "# 1. 데이터\n",
    "import numpy as np\n",
    "x = np.array([range(100), range(301,401)])\n",
    "y = np.array([range(100), range(301,401)])\n",
    "print(x.shape)\n",
    "print(y.shape)\n",
    "\n",
    "# transpose : 행과 열을 바꿈\n",
    "x = np.transpose(x)\n",
    "y = np.transpose(y)\n",
    "print(x.shape)\n",
    "print(y.shape)\n",
    "\n",
    "from sklearn.model_selection import train_test_split\n",
    "x_train, x_test, y_train, y_test = train_test_split(x, y, random_state=66, test_size=0.4, shuffle=False)\n",
    "x_val, x_test, y_val, y_test     = train_test_split(x_test, y_test, random_state=66, test_size=0.5, shuffle=False)\n",
    "\n",
    "# 2. 모델 구성\n",
    "from keras.models import Sequential\n",
    "from keras.layers import Dense\n",
    "model = Sequential()\n",
    "model.add(Dense(5, input_shape = (2, ), activation ='relu'))\n",
    "model.add(Dense(3))\n",
    "model.add(Dense(4))\n",
    "model.add(Dense(2))\n",
    "\n",
    "# 3. 훈련\n",
    "model.compile(loss='mse', optimizer='adam', metrics=['mse'])\n",
    "model.fit(x_train, y_train, epochs=300, batch_size=1, validation_data=(x_val, y_val), verbose=0)\n",
    "\n",
    "# 4. 평가 예측\n",
    "mse = model.evaluate(x_test, y_test, batch_size=1)\n",
    "print(\"mse : \", mse)\n",
    "y_predict = model.predict(x_test)\n",
    "\n",
    "# RMSE 구하기\n",
    "from sklearn.metrics import mean_squared_error\n",
    "def RMSE(y_test, y_predict):\n",
    "    return np.sqrt(mean_squared_error(y_test, y_predict))\n",
    "print(\"RMSE : \", RMSE(y_test, y_predict))\n",
    "\n",
    "# R2 구하기\n",
    "from sklearn.metrics import r2_score\n",
    "r2_y_predict = r2_score(y_test, y_predict)\n",
    "print(\"R2 : \", r2_y_predict)"
   ]
  },
  {
   "cell_type": "markdown",
   "metadata": {
    "id": "xmz1Lg1sjsm7"
   },
   "source": [
    "- 다:1"
   ]
  },
  {
   "cell_type": "code",
   "execution_count": null,
   "metadata": {
    "colab": {
     "base_uri": "https://localhost:8080/",
     "height": 87
    },
    "id": "VsSTMpaXjtyB",
    "outputId": "65fcea60-1620-475d-e065-60a3a4a1f5c6"
   },
   "outputs": [
    {
     "name": "stdout",
     "output_type": "stream",
     "text": [
      "20/20 [==============================] - 0s 1ms/step - loss: 5.6345e-09 - mse: 5.6345e-09\n",
      "mse :  [5.634501754059329e-09, 5.634501754059329e-09]\n",
      "RMSE :  7.568113261497341e-05\n",
      "R2 :  0.9999999998277403\n"
     ]
    }
   ],
   "source": [
    "# 1. 데이터\n",
    "import numpy as np\n",
    "\n",
    "x = np.array([range(100), range(301,401)])\n",
    "y = np.array(range(201,301))\n",
    "x = np.transpose(x)\n",
    "\n",
    "from sklearn.model_selection import train_test_split\n",
    "x_train, x_test, y_train, y_test = train_test_split(x, y, random_state=66, test_size=0.4, shuffle=False)\n",
    "x_val, x_test, y_val, y_test     = train_test_split(x_test, y_test, random_state=66, test_size=0.5, shuffle=False)\n",
    "\n",
    "# 2. 모델 구성\n",
    "from keras.models import Sequential\n",
    "from keras.layers import Dense\n",
    "model = Sequential()\n",
    "model.add(Dense(5, input_shape = (2, ), activation ='relu'))\n",
    "model.add(Dense(3))\n",
    "model.add(Dense(4))\n",
    "# 다:다 모델에서 최종 아웃풋 레이어만 1로 변경\n",
    "model.add(Dense(1))\n",
    "\n",
    "# 3. 훈련\n",
    "model.compile(loss='mse', optimizer='adam', metrics=['mse'])\n",
    "model.fit(x_train, y_train, epochs=100, batch_size=1, validation_data=(x_val, y_val), verbose=0)\n",
    "\n",
    "# 4. 평가 예측\n",
    "mse       = model.evaluate(x_test, y_test, batch_size=1)\n",
    "print(\"mse : \", mse)\n",
    "y_predict = model.predict(x_test)\n",
    "\n",
    "# RMSE 구하기\n",
    "from sklearn.metrics import mean_squared_error\n",
    "def RMSE(y_test, y_predict):\n",
    "    return np.sqrt(mean_squared_error(y_test, y_predict))\n",
    "print(\"RMSE : \", RMSE(y_test, y_predict))\n",
    "\n",
    "# R2 구하기\n",
    "from sklearn.metrics import r2_score\n",
    "r2_y_predict = r2_score(y_test, y_predict)\n",
    "print(\"R2 : \", r2_y_predict)"
   ]
  },
  {
   "cell_type": "markdown",
   "metadata": {
    "id": "oyA6HcTAkP3F"
   },
   "source": [
    "- 1:다\n",
    "  - 데이터 자체로 판단해서는 다소 이상한 모델이라고 할 수도 있지만 이 역시 구현된다는 점을 중심으로 확인해보면 된다."
   ]
  },
  {
   "cell_type": "code",
   "execution_count": null,
   "metadata": {
    "colab": {
     "base_uri": "https://localhost:8080/",
     "height": 492
    },
    "id": "ESg02FrVkSLE",
    "outputId": "1613d470-fa3d-4b4b-c9b2-9328d0e169ac"
   },
   "outputs": [
    {
     "name": "stdout",
     "output_type": "stream",
     "text": [
      "(100, 1)\n",
      "(100, 2)\n",
      "(20, 1)\n",
      "20/20 [==============================] - 0s 1ms/step - loss: 37953.9492 - mse: 37953.9492\n",
      "mse :  37953.94921875\n",
      "[[393.15698 570.7646 ]\n",
      " [397.0597  576.55206]\n",
      " [400.9624  582.33954]\n",
      " [404.86505 588.1271 ]\n",
      " [408.76776 593.9145 ]\n",
      " [412.67044 599.70197]\n",
      " [416.57312 605.4894 ]\n",
      " [420.47583 611.2769 ]\n",
      " [424.3785  617.0644 ]\n",
      " [428.2812  622.8518 ]\n",
      " [432.1839  628.63934]\n",
      " [436.0866  634.4268 ]\n",
      " [439.98926 640.21423]\n",
      " [443.89197 646.0017 ]\n",
      " [447.79462 651.7891 ]\n",
      " [451.69733 657.57666]\n",
      " [455.6     663.3641 ]\n",
      " [459.50275 669.1516 ]\n",
      " [463.4054  674.939  ]\n",
      " [467.30807 680.7265 ]]\n",
      "RMSE :  194.81773077547916\n",
      "R2 :  -1140.4721270528446\n"
     ]
    }
   ],
   "source": [
    "# 1. 데이터\n",
    "import numpy as np\n",
    "x = np.array([range(100)])\n",
    "y = np.array([range(201,301), range(301,401)])\n",
    "x = np.transpose(x)\n",
    "y = np.transpose(y)\n",
    "print(x.shape)\n",
    "print(y.shape)\n",
    "\n",
    "from sklearn.model_selection import train_test_split\n",
    "x_train, x_test, y_train, y_test = train_test_split(x, y, random_state=66, test_size=0.4, shuffle=False)\n",
    "x_val,   x_test, y_val,   y_test = train_test_split(x_test, y_test, random_state=66, test_size=0.5, shuffle=False)\n",
    "print(x_test.shape)\n",
    "\n",
    "# 2. 모델 구성\n",
    "from keras.models import Sequential\n",
    "from keras.layers import Dense\n",
    "model = Sequential()\n",
    "model.add(Dense(5, input_shape = (1, ), activation ='relu'))\n",
    "model.add(Dense(3))\n",
    "model.add(Dense(4))\n",
    "model.add(Dense(2))\n",
    "\n",
    "# 3. 훈련\n",
    "model.compile(loss='mse', optimizer='adam', metrics=['mse'])\n",
    "model.fit(x_train, y_train, epochs=100, batch_size=1, validation_data=(x_val, y_val), verbose=0)\n",
    "\n",
    "# 4. 평가 예측\n",
    "loss, mse = model.evaluate(x_test, y_test, batch_size=1)\n",
    "print(\"mse : \", mse)\n",
    "y_predict = model.predict(x_test)\n",
    "print(y_predict)\n",
    "\n",
    "# RMSE 구하기\n",
    "from sklearn.metrics import mean_squared_error\n",
    "def RMSE(y_test, y_predict):\n",
    "    return np.sqrt(mean_squared_error(y_test, y_predict))\n",
    "print(\"RMSE : \", RMSE(y_test, y_predict))\n",
    "\n",
    "# R2 구하기\n",
    "from sklearn.metrics import r2_score\n",
    "r2_y_predict = r2_score(y_test, y_predict)\n",
    "print(\"R2 : \", r2_y_predict)\n",
    "\n",
    "# predict 엉망, RMSE 높음, R2 음수 -> 결과값이 좋지 않음\n",
    "# 이런 모델까지 만들 수 있다는 것을 이해하고 넘어가라"
   ]
  }
 ],
 "metadata": {
  "language_info": {
   "name": "python"
  },
  "orig_nbformat": 4
 },
 "nbformat": 4,
 "nbformat_minor": 2
}
