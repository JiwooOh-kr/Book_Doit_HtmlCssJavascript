{
 "cells": [
  {
   "cell_type": "markdown",
   "metadata": {
    "id": "22ir9cc7ClpR"
   },
   "source": [
    "## 데이터 저장"
   ]
  },
  {
   "cell_type": "code",
   "execution_count": null,
   "metadata": {
    "colab": {
     "base_uri": "https://localhost:8080/",
     "height": 298
    },
    "id": "uy3mYhWZC2Xb",
    "outputId": "80438b61-9aae-4bdb-b548-7566631696ac"
   },
   "outputs": [
    {
     "name": "stdout",
     "output_type": "stream",
     "text": [
      "                시가      고가      저가     현재가      거래량\n",
      "일자                                                 \n",
      "2020-01-31  290.24  291.47  284.53  284.53  101,455\n",
      "2020-01-30  293.27  294.11  287.09  288.37  101,535\n",
      "2020-01-29  294.38  295.67  292.45  293.98   85,731\n",
      "2020-01-28  294.98  296.30  291.30  292.77  130,172\n",
      "2020-01-23  303.77  304.72  301.71  302.33   86,908\n",
      "...            ...     ...     ...     ...      ...\n",
      "2018-05-11  318.03  319.70  317.86  318.51  112,400\n",
      "2018-05-10  316.51  317.34  315.11  317.31  120,900\n",
      "2018-05-09  315.93  316.08  312.60  314.42  123,610\n",
      "2018-05-08  317.79  319.53  314.95  315.87  141,252\n",
      "2018-05-04  320.56  321.00  316.75  316.75  173,911\n",
      "\n",
      "[426 rows x 5 columns]\n",
      "(426, 5)\n"
     ]
    }
   ],
   "source": [
    "import numpy as np\n",
    "import pandas as pd\n",
    "\n",
    "df1 = pd.read_csv(\"/content/drive/My Drive/Prediction of Time Series Walking in Deep Learning/data/kospi200.csv\", index_col=0, \n",
    "                  header=0, encoding='cp949', sep=',')\n",
    "             \n",
    "print(df1)\n",
    "print(df1.shape)"
   ]
  },
  {
   "cell_type": "code",
   "execution_count": null,
   "metadata": {
    "colab": {
     "base_uri": "https://localhost:8080/",
     "height": 298
    },
    "id": "bPYRWTtMDGWZ",
    "outputId": "0657512e-80e3-49a1-917c-436ffb064405"
   },
   "outputs": [
    {
     "name": "stdout",
     "output_type": "stream",
     "text": [
      "                시가      고가      저가      종가         거래량\n",
      "일자                                                    \n",
      "2020-01-31  57,800  58,400  56,400  56,400  19,749,457\n",
      "2020-01-30  58,800  58,800  56,800  57,200  20,821,939\n",
      "2020-01-29  59,100  59,700  58,800  59,100  16,446,102\n",
      "2020-01-28  59,400  59,400  58,300  58,800  23,664,541\n",
      "2020-01-23  61,800  61,800  60,700  60,800  14,916,555\n",
      "...            ...     ...     ...     ...         ...\n",
      "2018-05-11  52,000  52,200  51,200  51,300  10,314,997\n",
      "2018-05-10  51,700  51,700  50,600  51,600  13,905,263\n",
      "2018-05-09  52,600  52,800  50,900  50,900  16,128,305\n",
      "2018-05-08  52,600  53,200  51,900  52,600  23,104,720\n",
      "2018-05-04  53,000  53,900  51,800  51,900  39,565,391\n",
      "\n",
      "[426 rows x 5 columns]\n",
      "(426, 5)\n"
     ]
    }
   ],
   "source": [
    "df2 = pd.read_csv(\"/content/drive/My Drive/Prediction of Time Series Walking in Deep Learning/data/samsung.csv\", index_col=0, \n",
    "                  header=0, encoding='cp949', sep=',')   \n",
    "\n",
    "print(df2)\n",
    "print(df2.shape)"
   ]
  },
  {
   "cell_type": "code",
   "execution_count": null,
   "metadata": {
    "colab": {
     "base_uri": "https://localhost:8080/",
     "height": 545
    },
    "id": "ZaK1QtoiDLcB",
    "outputId": "39d82dee-5f41-4977-e96e-22211e9af446"
   },
   "outputs": [
    {
     "name": "stdout",
     "output_type": "stream",
     "text": [
      "                시가      고가      저가     현재가     거래량\n",
      "일자                                                \n",
      "2018-05-04  320.56  321.00  316.75  316.75  173911\n",
      "2018-05-08  317.79  319.53  314.95  315.87  141252\n",
      "2018-05-09  315.93  316.08  312.60  314.42  123610\n",
      "2018-05-10  316.51  317.34  315.11  317.31  120900\n",
      "2018-05-11  318.03  319.70  317.86  318.51  112400\n",
      "...            ...     ...     ...     ...     ...\n",
      "2020-01-23  303.77  304.72  301.71  302.33   86908\n",
      "2020-01-28  294.98  296.30  291.30  292.77  130172\n",
      "2020-01-29  294.38  295.67  292.45  293.98   85731\n",
      "2020-01-30  293.27  294.11  287.09  288.37  101535\n",
      "2020-01-31  290.24  291.47  284.53  284.53  101455\n",
      "\n",
      "[426 rows x 5 columns]\n",
      "               시가     고가     저가     종가       거래량\n",
      "일자                                              \n",
      "2018-05-04  53000  53900  51800  51900  39565391\n",
      "2018-05-08  52600  53200  51900  52600  23104720\n",
      "2018-05-09  52600  52800  50900  50900  16128305\n",
      "2018-05-10  51700  51700  50600  51600  13905263\n",
      "2018-05-11  52000  52200  51200  51300  10314997\n",
      "...           ...    ...    ...    ...       ...\n",
      "2020-01-23  61800  61800  60700  60800  14916555\n",
      "2020-01-28  59400  59400  58300  58800  23664541\n",
      "2020-01-29  59100  59700  58800  59100  16446102\n",
      "2020-01-30  58800  58800  56800  57200  20821939\n",
      "2020-01-31  57800  58400  56400  56400  19749457\n",
      "\n",
      "[426 rows x 5 columns]\n"
     ]
    }
   ],
   "source": [
    "# kospi200의 거래량\n",
    "for i in range(len(df1.index)):     # 거래량 str -> int 변경\n",
    "  df1.iloc[i,4] = int(df1.iloc[i,4].replace(',', ''))  \n",
    "# 삼성전자의 모든 데이터 \n",
    "for i in range(len(df2.index)):     # 모든 str -> int 변경\n",
    "  for j in range(len(df2.iloc[i])):\n",
    "    df2.iloc[i,j] = int(df2.iloc[i,j].replace(',', ''))  \n",
    "\n",
    "df1 = df1.sort_values(['일자'], ascending=[True])\n",
    "df2 = df2.sort_values(['일자'], ascending=[True])\n",
    "print(df1)\n",
    "print(df2)"
   ]
  },
  {
   "cell_type": "markdown",
   "metadata": {
    "id": "HD_t2zdTCljj"
   },
   "source": [
    "## numpy를 pandas로 변경 후 저장"
   ]
  },
  {
   "cell_type": "code",
   "execution_count": null,
   "metadata": {
    "colab": {
     "base_uri": "https://localhost:8080/",
     "height": 52
    },
    "id": "53y08uQ7DW4g",
    "outputId": "dbcc9469-44e3-43d6-d862-fdac4e94cf84"
   },
   "outputs": [
    {
     "name": "stdout",
     "output_type": "stream",
     "text": [
      "<class 'numpy.ndarray'> <class 'numpy.ndarray'>\n",
      "(426, 5) (426, 5)\n"
     ]
    }
   ],
   "source": [
    "df1 = df1.values\n",
    "df2 = df2.values\n",
    "print(type(df1), type(df2))\n",
    "print(df1.shape, df2.shape)"
   ]
  },
  {
   "cell_type": "code",
   "execution_count": null,
   "metadata": {
    "id": "3GBFstggEIc2"
   },
   "outputs": [],
   "source": [
    "np.save('/content/drive/My Drive/Prediction of Time Series Walking in Deep Learning/data/kospi200.npy', arr=df1)\n",
    "np.save('/content/drive/My Drive/Prediction of Time Series Walking in Deep Learning/data/samsung.npy', arr=df2)"
   ]
  },
  {
   "cell_type": "markdown",
   "metadata": {
    "id": "hjcq50zrCleP"
   },
   "source": [
    "## numpy 데이터 불러오기"
   ]
  },
  {
   "cell_type": "code",
   "execution_count": null,
   "metadata": {
    "id": "4vjBOq-1EmPI"
   },
   "outputs": [],
   "source": [
    "# 오류 : ValueError: Object arrays cannot be loaded when allow_pickle=False\n",
    "import numpy as np\n",
    "\n",
    "## 먼저 기존의 np.load를 np_load_old에 저장해둠.\n",
    "np_load_old = np.load\n",
    "\n",
    "## 기존의 parameter을 바꿔줌\n",
    "np.load = lambda *a,**k: np_load_old(*a, allow_pickle=True, **k)"
   ]
  },
  {
   "cell_type": "code",
   "execution_count": null,
   "metadata": {
    "colab": {
     "base_uri": "https://localhost:8080/",
     "height": 298
    },
    "id": "6CaE-2atEOee",
    "outputId": "dcc289e5-e4c8-46b4-c28b-bad0bf54e906"
   },
   "outputs": [
    {
     "name": "stdout",
     "output_type": "stream",
     "text": [
      "[[320.56 321.0 316.75 316.75 173911]\n",
      " [317.79 319.53 314.95 315.87 141252]\n",
      " [315.93 316.08 312.6 314.42 123610]\n",
      " ...\n",
      " [294.38 295.67 292.45 293.98 85731]\n",
      " [293.27 294.11 287.09 288.37 101535]\n",
      " [290.24 291.47 284.53 284.53 101455]]\n",
      "[[53000 53900 51800 51900 39565391]\n",
      " [52600 53200 51900 52600 23104720]\n",
      " [52600 52800 50900 50900 16128305]\n",
      " ...\n",
      " [59100 59700 58800 59100 16446102]\n",
      " [58800 58800 56800 57200 20821939]\n",
      " [57800 58400 56400 56400 19749457]]\n",
      "(426, 5)\n",
      "(426, 5)\n"
     ]
    }
   ],
   "source": [
    "import numpy as np\n",
    "import pandas as pd\n",
    "\n",
    "kospi200 = np.load('/content/drive/My Drive/Prediction of Time Series Walking in Deep Learning/data/kospi200.npy')\n",
    "samsung = np.load('/content/drive/My Drive/Prediction of Time Series Walking in Deep Learning/data/samsung.npy')\n",
    "\n",
    "print(kospi200)\n",
    "print(samsung)\n",
    "print(kospi200.shape)\n",
    "print(samsung.shape)"
   ]
  },
  {
   "cell_type": "markdown",
   "metadata": {
    "id": "rLwDyHEiClZu"
   },
   "source": [
    "## DNN 구성하기"
   ]
  },
  {
   "cell_type": "code",
   "execution_count": null,
   "metadata": {
    "colab": {
     "base_uri": "https://localhost:8080/",
     "height": 158
    },
    "id": "-IqJhjpxEw4J",
    "outputId": "643cb2f6-cc87-4f47-bbb6-30f0c43ca58d"
   },
   "outputs": [
    {
     "name": "stdout",
     "output_type": "stream",
     "text": [
      "[[53000 53900 51800 51900 39565391]\n",
      " [52600 53200 51900 52600 23104720]\n",
      " [52600 52800 50900 50900 16128305]\n",
      " [51700 51700 50600 51600 13905263]\n",
      " [52000 52200 51200 51300 10314997]] \n",
      " [50100]\n",
      "(421, 5, 5)\n",
      "(421, 1)\n"
     ]
    }
   ],
   "source": [
    "def split_xy5(dataset, time_steps, y_column):\n",
    "    x, y = list(), list()\n",
    "    for i in range(len(dataset)):\n",
    "        x_end_number = i + time_steps\n",
    "        y_end_number = x_end_number + y_column # 수정\n",
    "\n",
    "        if y_end_number > len(dataset):  # 수정\n",
    "            break\n",
    "        tmp_x = dataset[i:x_end_number, :]  # 수정\n",
    "        tmp_y = dataset[x_end_number:y_end_number, 3]    # 수정\n",
    "        x.append(tmp_x)\n",
    "        y.append(tmp_y)\n",
    "    return np.array(x), np.array(y)\n",
    "    \n",
    "x, y = split_xy5(samsung, 5, 1) \n",
    "print(x[0,:], \"\\n\", y[0])\n",
    "print(x.shape)\n",
    "print(y.shape)"
   ]
  },
  {
   "cell_type": "markdown",
   "metadata": {
    "id": "s2aJx0Y9E2kJ"
   },
   "source": [
    "### 데이터 전처리"
   ]
  },
  {
   "cell_type": "code",
   "execution_count": null,
   "metadata": {
    "colab": {
     "base_uri": "https://localhost:8080/",
     "height": 87
    },
    "id": "W7C0AkudE8mN",
    "outputId": "2b3799bf-2d2d-4b69-84d8-4c51b7dfa181"
   },
   "outputs": [
    {
     "name": "stdout",
     "output_type": "stream",
     "text": [
      "(294, 5, 5)\n",
      "(127, 5, 5)\n",
      "(294, 1)\n",
      "(127, 1)\n"
     ]
    }
   ],
   "source": [
    "# 데이터 셋 나누기\n",
    "from sklearn.model_selection import train_test_split\n",
    "x_train, x_test, y_train, y_test = train_test_split( x, y, random_state=1, test_size = 0.3)\n",
    "\n",
    "print(x_train.shape)\n",
    "print(x_test.shape)\n",
    "print(y_train.shape)\n",
    "print(y_test.shape)"
   ]
  },
  {
   "cell_type": "code",
   "execution_count": null,
   "metadata": {
    "colab": {
     "base_uri": "https://localhost:8080/",
     "height": 52
    },
    "id": "D9RF7TgaFCY9",
    "outputId": "b0501792-135f-4982-ba56-8c9e2ab547fc"
   },
   "outputs": [
    {
     "name": "stdout",
     "output_type": "stream",
     "text": [
      "(294, 25)\n",
      "(127, 25)\n"
     ]
    }
   ],
   "source": [
    "x_train = np.reshape(x_train, (x_train.shape[0], x_train.shape[1] * x_train.shape[2]))\n",
    "x_test = np.reshape(x_test, (x_test.shape[0], x_test.shape[1] * x_test.shape[2]))\n",
    "\n",
    "print(x_train.shape)\n",
    "print(x_test.shape)"
   ]
  },
  {
   "cell_type": "code",
   "execution_count": null,
   "metadata": {
    "colab": {
     "base_uri": "https://localhost:8080/",
     "height": 105
    },
    "id": "s3XAoONyFLCf",
    "outputId": "d0555427-f2b9-4f5f-ce11-15b7ebf46600"
   },
   "outputs": [
    {
     "name": "stdout",
     "output_type": "stream",
     "text": [
      "[ 1.13392563  1.07633086  1.02393741  0.93187013 -0.028819    1.05994459\n",
      "  1.04756614  1.06686328  0.94933344  1.53138774  0.79093879  0.80213886\n",
      "  0.84540479  0.81507608  0.10811605  0.73712199  0.68893234  0.71073997\n",
      "  0.69657856  0.37360361  0.85647275  0.80021877  0.80910994  0.69442952\n",
      " -0.16973555]\n"
     ]
    }
   ],
   "source": [
    "#### 데이터 전처리 #####\n",
    "from sklearn.preprocessing import StandardScaler\n",
    "scaler = StandardScaler()\n",
    "scaler.fit(x_train)\n",
    "\n",
    "x_train_scaled = scaler.transform(x_train)\n",
    "x_test_scaled = scaler.transform(x_test)\n",
    "\n",
    "print(x_train_scaled[0, :])"
   ]
  },
  {
   "cell_type": "code",
   "execution_count": null,
   "metadata": {
    "id": "VNcrsk1nFR-U"
   },
   "outputs": [],
   "source": [
    "from keras.models import Sequential\n",
    "from keras.layers import Dense\n",
    "\n",
    "# 모델구성\n",
    "model = Sequential()\n",
    "model.add(Dense(64, input_shape=(25, )))\n",
    "model.add(Dense(32, activation='relu'))\n",
    "model.add(Dense(32, activation='relu'))\n",
    "model.add(Dense(32, activation='relu'))\n",
    "model.add(Dense(32, activation='relu'))\n",
    "model.add(Dense(1))"
   ]
  },
  {
   "cell_type": "markdown",
   "metadata": {
    "id": "NTHhWqBiFUE_"
   },
   "source": [
    "### 컴파일 및 훈련, 완성"
   ]
  },
  {
   "cell_type": "code",
   "execution_count": null,
   "metadata": {
    "colab": {
     "base_uri": "https://localhost:8080/",
     "height": 70
    },
    "id": "3-2yKbVrFV0F",
    "outputId": "9fddb97b-f180-4fe2-9e5f-7ca9bce19d4c"
   },
   "outputs": [
    {
     "name": "stdout",
     "output_type": "stream",
     "text": [
      "127/127 [==============================] - 0s 909us/step - loss: 731050.7500 - mse: 731050.7500\n",
      "loss :  731050.75\n",
      "mse :  731050.75\n"
     ]
    }
   ],
   "source": [
    "# 오류 : Failed to convert a NumPy array to a Tensor (Unsupported object type int).\n",
    "x_train_scaled = np.asarray(x_train_scaled).astype('float32')\n",
    "y_train = np.asarray(y_train).astype('float32')\n",
    "\n",
    "model.compile(loss='mse', optimizer='adam', metrics=['mse'])\n",
    "\n",
    "from keras.callbacks import EarlyStopping\n",
    "early_stopping = EarlyStopping(patience=20)\n",
    "model.fit(x_train_scaled, y_train, validation_split=0.2, verbose=0, batch_size=1, epochs=100, callbacks=[early_stopping])\n",
    "\n",
    "loss, mse = model.evaluate(x_test_scaled, y_test, batch_size=1)\n",
    "print('loss : ', loss)\n",
    "print('mse : ', mse)"
   ]
  },
  {
   "cell_type": "code",
   "execution_count": null,
   "metadata": {
    "colab": {
     "base_uri": "https://localhost:8080/",
     "height": 105
    },
    "id": "Fs7oYsoJFhgv",
    "outputId": "41a28c54-a1dd-4c79-be26-793298601090"
   },
   "outputs": [
    {
     "name": "stdout",
     "output_type": "stream",
     "text": [
      "종가 :  [52200.] / 예측가 :  [51958.367]\n",
      "종가 :  [41450.] / 예측가 :  [40949.477]\n",
      "종가 :  [49650.] / 예측가 :  [49372.52]\n",
      "종가 :  [44800.] / 예측가 :  [45789.367]\n",
      "종가 :  [49500.] / 예측가 :  [48951.07]\n"
     ]
    }
   ],
   "source": [
    "y_pred = model.predict(x_test_scaled)\n",
    "\n",
    "for i in range(5):\n",
    "    print('종가 : ', y_test[i], '/ 예측가 : ', y_pred[i])"
   ]
  },
  {
   "cell_type": "markdown",
   "metadata": {
    "id": "RI15aguuClVd"
   },
   "source": [
    "## LSTM 구성하기"
   ]
  },
  {
   "cell_type": "code",
   "execution_count": null,
   "metadata": {
    "colab": {
     "base_uri": "https://localhost:8080/",
     "height": 158
    },
    "id": "k8Lo_ZsfHpve",
    "outputId": "6cb30420-30c0-4e96-fe61-ff8678c239f9"
   },
   "outputs": [
    {
     "name": "stdout",
     "output_type": "stream",
     "text": [
      "127/127 [==============================] - 0s 1ms/step - loss: 1578468.1250 - mse: 1578468.1250\n",
      "loss :  1578468.125\n",
      "mse :  1578468.125\n",
      "종가 :  [52200.] / 예측가 :  [53432.055]\n",
      "종가 :  [41450.] / 예측가 :  [40428.016]\n",
      "종가 :  [49650.] / 예측가 :  [51537.67]\n",
      "종가 :  [44800.] / 예측가 :  [46305.836]\n",
      "종가 :  [49500.] / 예측가 :  [50258.215]\n"
     ]
    }
   ],
   "source": [
    "import numpy as np\n",
    "import pandas as pd\n",
    "\n",
    "kospi200 = np.load('/content/drive/My Drive/Prediction of Time Series Walking in Deep Learning/data/kospi200.npy')\n",
    "samsung = np.load('/content/drive/My Drive/Prediction of Time Series Walking in Deep Learning/data/samsung.npy') \n",
    "\n",
    "def split_xy5(dataset, time_steps, y_column):\n",
    "    x, y = list(), list()\n",
    "    for i in range(len(dataset)):\n",
    "        x_end_number = i + time_steps\n",
    "        y_end_number = x_end_number + y_column # 수정\n",
    "\n",
    "        if y_end_number > len(dataset):  # 수정\n",
    "            break\n",
    "        tmp_x = dataset[i:x_end_number, :]  # 수정\n",
    "        tmp_y = dataset[x_end_number:y_end_number, 3]    # 수정\n",
    "        x.append(tmp_x)\n",
    "        y.append(tmp_y)\n",
    "    return np.array(x), np.array(y)\n",
    "x, y = split_xy5(samsung, 5, 1) \n",
    "\n",
    "# 데이터 셋 나누기\n",
    "from sklearn.model_selection import train_test_split\n",
    "x_train, x_test, y_train, y_test = train_test_split(x, y, random_state=1, test_size = 0.3)\n",
    "\n",
    "x_train = np.reshape(x_train, (x_train.shape[0], x_train.shape[1] * x_train.shape[2]))\n",
    "x_test = np.reshape(x_test, (x_test.shape[0], x_test.shape[1] * x_test.shape[2]))\n",
    "\n",
    "#### 데이터 전처리 #####\n",
    "from sklearn.preprocessing import StandardScaler\n",
    "scaler = StandardScaler()\n",
    "scaler.fit(x_train)\n",
    "x_train_scaled = scaler.transform(x_train)\n",
    "x_test_scaled = scaler.transform(x_test)\n",
    "\n",
    "x_train_scaled = np.reshape(x_train_scaled, (x_train_scaled.shape[0], 5, 5))\n",
    "x_test_scaled = np.reshape(x_test_scaled, (x_test_scaled.shape[0], 5, 5))\n",
    "\n",
    "from keras.models import Sequential\n",
    "from keras.layers import Dense, LSTM\n",
    "\n",
    "# 모델구성\n",
    "model = Sequential()\n",
    "model.add(LSTM(64, input_shape=(5, 5)))\n",
    "model.add(Dense(32, activation='relu'))\n",
    "model.add(Dense(32, activation='relu'))\n",
    "model.add(Dense(32, activation='relu'))\n",
    "model.add(Dense(32, activation='relu'))\n",
    "model.add(Dense(1))\n",
    "\n",
    "model.compile(loss='mse', optimizer='adam', metrics=['mse'])\n",
    "\n",
    "from keras.callbacks import EarlyStopping\n",
    "early_stopping = EarlyStopping(patience=20)\n",
    "\n",
    "y_train = np.asarray(y_train).astype('float32')\n",
    "model.fit(x_train_scaled, y_train, validation_split=0.2, verbose=0, batch_size=1, epochs=100, callbacks=[early_stopping])\n",
    "\n",
    "y_test = np.asarray(y_test).astype('float32')\n",
    "loss, mse = model.evaluate(x_test_scaled, y_test, batch_size=1)\n",
    "print('loss : ', loss)\n",
    "print('mse : ', mse)\n",
    "\n",
    "y_pred = model.predict(x_test_scaled)\n",
    "\n",
    "for i in range(5):\n",
    "    print('종가 : ', y_test[i], '/ 예측가 : ', y_pred[i])"
   ]
  },
  {
   "cell_type": "markdown",
   "metadata": {
    "id": "zQLERlGNClRO"
   },
   "source": [
    "## DNN 앙상블 구현하기"
   ]
  },
  {
   "cell_type": "code",
   "execution_count": null,
   "metadata": {
    "colab": {
     "base_uri": "https://localhost:8080/",
     "height": 158
    },
    "id": "v6CRQ6o_IPlU",
    "outputId": "c5c6e9b1-cade-4b2f-f616-cefca1021b5e"
   },
   "outputs": [
    {
     "name": "stdout",
     "output_type": "stream",
     "text": [
      "127/127 [==============================] - 0s 918us/step - loss: 933666.7500 - mse: 933666.7500\n",
      "loss :  933666.75\n",
      "mse :  933666.75\n",
      "종가 :  [52200.] / 예측가 :  [51946.53]\n",
      "종가 :  [41450.] / 예측가 :  [40471.004]\n",
      "종가 :  [49650.] / 예측가 :  [49484.402]\n",
      "종가 :  [44800.] / 예측가 :  [46415.355]\n",
      "종가 :  [49500.] / 예측가 :  [48465.82]\n"
     ]
    }
   ],
   "source": [
    "import numpy as np\n",
    "import pandas as pd\n",
    "\n",
    "kospi200 = np.load('/content/drive/My Drive/Prediction of Time Series Walking in Deep Learning/data/kospi200.npy')\n",
    "samsung = np.load('/content/drive/My Drive/Prediction of Time Series Walking in Deep Learning/data/samsung.npy')\n",
    "\n",
    "def split_xy5(dataset, time_steps, y_column):\n",
    "    x, y = list(), list()\n",
    "    for i in range(len(dataset)):\n",
    "        x_end_number = i + time_steps\n",
    "        y_end_number = x_end_number + y_column # 수정\n",
    "\n",
    "        if y_end_number > len(dataset):  # 수정\n",
    "            break\n",
    "        tmp_x = dataset[i:x_end_number, :]  # 수정\n",
    "        tmp_y = dataset[x_end_number:y_end_number, 3]    # 수정\n",
    "        x.append(tmp_x)\n",
    "        y.append(tmp_y)\n",
    "    return np.array(x), np.array(y)\n",
    "\n",
    "x1, y1 = split_xy5(samsung, 5, 1) \n",
    "x2, y2 = split_xy5(kospi200, 5, 1) \n",
    "\n",
    "# 데이터 셋 나누기\n",
    "from sklearn.model_selection import train_test_split\n",
    "x1_train, x1_test, y1_train, y1_test = train_test_split(x1, y1, random_state=1, test_size = 0.3)\n",
    "x2_train, x2_test, y2_train, y2_test = train_test_split(x2, y2, random_state=2, test_size = 0.3)\n",
    "\n",
    "x1_train = np.reshape(x1_train, (x1_train.shape[0], x1_train.shape[1] * x1_train.shape[2]))\n",
    "x1_test  = np.reshape(x1_test, (x1_test.shape[0], x1_test.shape[1] * x1_test.shape[2]))\n",
    "x2_train = np.reshape(x2_train, (x2_train.shape[0], x2_train.shape[1] * x2_train.shape[2]))\n",
    "x2_test  = np.reshape(x2_test, (x2_test.shape[0], x2_test.shape[1] * x2_test.shape[2]))\n",
    "\n",
    "#### 데이터 전처리 #####\n",
    "from sklearn.preprocessing import StandardScaler\n",
    "scaler1 = StandardScaler()\n",
    "scaler1.fit(x1_train)\n",
    "x1_train_scaled = scaler1.transform(x1_train)\n",
    "x1_test_scaled  = scaler1.transform(x1_test)\n",
    "\n",
    "scaler2 = StandardScaler()\n",
    "scaler2.fit(x2_train)\n",
    "x2_train_scaled = scaler2.transform(x2_train)\n",
    "x2_test_scaled  = scaler2.transform(x2_test)\n",
    "\n",
    "from keras.models import Model\n",
    "from keras.layers import Dense, Input\n",
    "\n",
    "# 모델구성\n",
    "input1  = Input(shape=(25, ))\n",
    "dense1  = Dense(64)(input1)\n",
    "dense1  = Dense(32)(dense1)\n",
    "dense1  = Dense(32)(dense1)\n",
    "output1 = Dense(32)(dense1)\n",
    "\n",
    "input2  = Input(shape=(25, ))\n",
    "dense2  = Dense(64)(input2)\n",
    "dense2  = Dense(64)(dense2)\n",
    "dense2  = Dense(64)(dense2)\n",
    "dense2  = Dense(64)(dense2)\n",
    "output2 = Dense(32)(dense2)\n",
    "\n",
    "from keras.layers.merge import concatenate\n",
    "merge   = concatenate([output1, output2])\n",
    "output3 = Dense(1)(merge)\n",
    "\n",
    "model = Model(inputs=[input1, input2], outputs = output3 )\n",
    "\n",
    "model.compile(loss='mse', optimizer='adam', metrics=['mse'])\n",
    "\n",
    "y1_train = np.asarray(y_train).astype('float32')\n",
    "y1_test  = np.asarray(y_test).astype('float32')\n",
    "\n",
    "from keras.callbacks import EarlyStopping\n",
    "early_stopping = EarlyStopping(patience=20)\n",
    "model.fit([x1_train_scaled, x2_train_scaled], y1_train, validation_split=0.2, verbose=0, batch_size=1, epochs=100, callbacks=[early_stopping])\n",
    "\n",
    "loss, mse = model.evaluate([x1_test_scaled, x2_test_scaled], y1_test, batch_size=1)\n",
    "print('loss : ', loss)\n",
    "print('mse : ', mse)\n",
    "\n",
    "y1_pred = model.predict([x1_test_scaled, x2_test_scaled])\n",
    "\n",
    "for i in range(5):\n",
    "    print('종가 : ', y1_test[i], '/ 예측가 : ', y1_pred[i])"
   ]
  },
  {
   "cell_type": "markdown",
   "metadata": {
    "id": "gM3xU81JClNM"
   },
   "source": [
    "## LSTM 앙상블 구현하기"
   ]
  },
  {
   "cell_type": "code",
   "execution_count": null,
   "metadata": {
    "colab": {
     "base_uri": "https://localhost:8080/",
     "height": 158
    },
    "id": "cBFCHtUJKmc3",
    "outputId": "601880c3-9767-430c-a75d-49067feb7127"
   },
   "outputs": [
    {
     "name": "stdout",
     "output_type": "stream",
     "text": [
      "127/127 [==============================] - 0s 1ms/step - loss: 3256463.7500 - mse: 3256463.7500\n",
      "loss :  3256463.75\n",
      "mse :  3256463.75\n",
      "종가 :  [52200.] / 예측가 :  [54517.156]\n",
      "종가 :  [41450.] / 예측가 :  [42135.41]\n",
      "종가 :  [49650.] / 예측가 :  [51854.504]\n",
      "종가 :  [44800.] / 예측가 :  [47931.477]\n",
      "종가 :  [49500.] / 예측가 :  [52563.805]\n"
     ]
    }
   ],
   "source": [
    "import numpy as np\n",
    "import pandas as pd\n",
    "\n",
    "kospi200 = np.load('/content/drive/My Drive/Prediction of Time Series Walking in Deep Learning/data/kospi200.npy')\n",
    "samsung = np.load('/content/drive/My Drive/Prediction of Time Series Walking in Deep Learning/data/samsung.npy')\n",
    "\n",
    "def split_xy5(dataset, time_steps, y_column):\n",
    "    x, y = list(), list()\n",
    "    for i in range(len(dataset)):\n",
    "        x_end_number = i + time_steps\n",
    "        y_end_number = x_end_number + y_column # 수정\n",
    "\n",
    "        if y_end_number > len(dataset):  # 수정\n",
    "            break\n",
    "        tmp_x = dataset[i:x_end_number, :]  # 수정\n",
    "        tmp_y = dataset[x_end_number:y_end_number, 3]    # 수정\n",
    "        x.append(tmp_x)\n",
    "        y.append(tmp_y)\n",
    "    return np.array(x), np.array(y)\n",
    "x1, y1 = split_xy5(samsung, 5, 1) \n",
    "x2, y2 = split_xy5(kospi200, 5, 1) \n",
    "\n",
    "# 데이터 셋 나누기\n",
    "from sklearn.model_selection import train_test_split\n",
    "# from sklearn.model_selection import cross_val_score\n",
    "x1_train, x1_test, y1_train, y1_test = train_test_split(x1, y1, random_state=1, test_size = 0.3)\n",
    "x2_train, x2_test, y2_train, y2_test = train_test_split(x2, y2, random_state=2, test_size = 0.3)\n",
    "\n",
    "y1_train = np.asarray(y_train).astype('float32')\n",
    "y1_test  = np.asarray(y_test).astype('float32')\n",
    "\n",
    "x1_train = np.reshape(x1_train, (x1_train.shape[0], x1_train.shape[1] * x1_train.shape[2]))\n",
    "x1_test  = np.reshape(x1_test, (x1_test.shape[0], x1_test.shape[1] * x1_test.shape[2]))\n",
    "x2_train = np.reshape(x2_train, (x2_train.shape[0], x2_train.shape[1] * x2_train.shape[2]))\n",
    "x2_test  = np.reshape(x2_test, (x2_test.shape[0], x2_test.shape[1] * x2_test.shape[2]))\n",
    "\n",
    "#### 데이터 전처리 #####\n",
    "from sklearn.preprocessing import StandardScaler\n",
    "scaler1 = StandardScaler()\n",
    "scaler1.fit(x1_train)\n",
    "x1_train_scaled = scaler1.transform(x1_train)\n",
    "x1_test_scaled  = scaler1.transform(x1_test)\n",
    "\n",
    "scaler2 = StandardScaler()\n",
    "scaler2.fit(x2_train)\n",
    "x2_train_scaled = scaler2.transform(x2_train)\n",
    "x2_test_scaled  = scaler2.transform(x2_test)\n",
    "\n",
    "x1_train_scaled = np.reshape(x1_train_scaled, (x1_train_scaled.shape[0], 5, 5))\n",
    "x1_test_scaled  = np.reshape(x1_test_scaled, (x1_test_scaled.shape[0], 5, 5))\n",
    "x2_train_scaled = np.reshape(x2_train_scaled, (x2_train_scaled.shape[0], 5, 5))\n",
    "x2_test_scaled  = np.reshape(x2_test_scaled, (x2_test_scaled.shape[0], 5, 5))\n",
    "\n",
    "from keras.models import Model\n",
    "from keras.layers import Dense, Input, LSTM\n",
    "\n",
    "# 모델구성\n",
    "input1  = Input(shape=(5, 5))\n",
    "dense1  = LSTM(64)(input1)\n",
    "dense1  = Dense(32)(dense1)\n",
    "dense1  = Dense(32)(dense1)\n",
    "output1 = Dense(32)(dense1)\n",
    "\n",
    "input2  = Input(shape=(5, 5))\n",
    "dense2  = LSTM(64)(input2)\n",
    "dense2  = Dense(64)(dense2)\n",
    "dense2  = Dense(64)(dense2)\n",
    "dense2  = Dense(64)(dense2)\n",
    "output2 = Dense(32)(dense2)\n",
    "\n",
    "from keras.layers.merge import concatenate\n",
    "merge = concatenate([output1, output2])\n",
    "output3 = Dense(1)(merge)\n",
    "\n",
    "model = Model(inputs=[input1, input2], outputs = output3 )\n",
    "\n",
    "model.compile(loss='mse', optimizer='adam', metrics=['mse'])\n",
    "\n",
    "from keras.callbacks import EarlyStopping\n",
    "early_stopping = EarlyStopping(patience=20)\n",
    "model.fit([x1_train_scaled, x2_train_scaled], y1_train, validation_split=0.2, verbose=0, batch_size=1, epochs=100, callbacks=[early_stopping])\n",
    "\n",
    "loss, mse = model.evaluate([x1_test_scaled, x2_test_scaled], y1_test, batch_size=1)\n",
    "print('loss : ', loss)\n",
    "print('mse : ', mse)\n",
    "\n",
    "y1_pred = model.predict([x1_test_scaled, x2_test_scaled])\n",
    "\n",
    "for i in range(5):\n",
    "    print('종가 : ', y1_test[i], '/ 예측가 : ', y1_pred[i])"
   ]
  }
 ],
 "metadata": {
  "language_info": {
   "name": "python"
  },
  "orig_nbformat": 4
 },
 "nbformat": 4,
 "nbformat_minor": 2
}
