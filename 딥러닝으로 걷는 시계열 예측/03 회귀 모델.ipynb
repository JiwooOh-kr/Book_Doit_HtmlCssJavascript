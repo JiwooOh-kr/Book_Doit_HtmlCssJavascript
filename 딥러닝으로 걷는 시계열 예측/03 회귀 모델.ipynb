{
 "cells": [
  {
   "cell_type": "markdown",
   "metadata": {
    "id": "MoHN2XiuT2zV"
   },
   "source": [
    "- y = wx + b\n",
    "- 참고 블로그 : [케라스 튜토리얼](https://ebbnflow.tistory.com/120)"
   ]
  },
  {
   "cell_type": "code",
   "execution_count": null,
   "metadata": {
    "colab": {
     "base_uri": "https://localhost:8080/",
     "height": 492
    },
    "id": "89m5THlETz8U",
    "outputId": "d1dfbc8c-8326-40a3-b590-9f204ea9237b"
   },
   "outputs": [
    {
     "name": "stdout",
     "output_type": "stream",
     "text": [
      "Model: \"sequential\"\n",
      "_________________________________________________________________\n",
      "Layer (type)                 Output Shape              Param #   \n",
      "=================================================================\n",
      "dense (Dense)                (None, 5)                 10        \n",
      "_________________________________________________________________\n",
      "dense_1 (Dense)              (None, 3)                 18        \n",
      "_________________________________________________________________\n",
      "dense_2 (Dense)              (None, 1)                 4         \n",
      "=================================================================\n",
      "Total params: 32\n",
      "Trainable params: 32\n",
      "Non-trainable params: 0\n",
      "_________________________________________________________________\n",
      "10/10 [==============================] - 0s 1ms/step - loss: 274.8886\n",
      "mse :  274.8885803222656\n",
      "결과물 : \n",
      " [[85.18195 ]\n",
      " [86.01424 ]\n",
      " [86.84652 ]\n",
      " [87.67881 ]\n",
      " [88.5111  ]\n",
      " [89.343376]\n",
      " [90.17566 ]\n",
      " [91.00794 ]\n",
      " [91.840225]\n",
      " [92.67252 ]]\n"
     ]
    }
   ],
   "source": [
    "from keras.models import Sequential\n",
    "from keras.layers import Dense\n",
    "import numpy as np\n",
    "\n",
    "x_train = np.array([1,2,3,4,5,6,7,8,9,10])\n",
    "y_train = np.array([1,2,3,4,5,6,7,8,9,10])\n",
    "x_test  = np.array([101,102,103,104,105,106,107,108,109,110])\n",
    "y_test  = np.array([101,102,103,104,105,106,107,108,109,110])\n",
    "\n",
    "model = Sequential()\n",
    "model.add(Dense(5, input_dim =1 , activation='relu'))\n",
    "model.add(Dense(3))\n",
    "model.add(Dense(1, activation='relu'))\n",
    "model.summary()\n",
    "\n",
    "# 회귀 모델은 accuracy가 아니라 mse를 사용\n",
    "model.compile(loss='mse', optimizer='adam')\n",
    "model.fit(x_train, y_train, epochs=100, batch_size=1, validation_data = (x_test, y_test), verbose=0)\n",
    "mse = model.evaluate(x_test, y_test, batch_size =1)\n",
    "\n",
    "print(\"mse : \", mse)\n",
    "y_predict = model.predict(x_test)\n",
    "print(\"결과물 : \\n\", y_predict)"
   ]
  }
 ],
 "metadata": {
  "interpreter": {
   "hash": "744707d79c56a9104598100d978134591d28c828233b0a514ee23dd11b47b3cc"
  },
  "kernelspec": {
   "display_name": "Python 3.8.5 32-bit",
   "name": "python3"
  },
  "language_info": {
   "name": "python",
   "version": "3.8.5"
  },
  "orig_nbformat": 4
 },
 "nbformat": 4,
 "nbformat_minor": 2
}
